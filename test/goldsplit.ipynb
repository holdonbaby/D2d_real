{
 "cells": [
  {
   "cell_type": "code",
   "execution_count": 19,
   "metadata": {
    "collapsed": true
   },
   "outputs": [],
   "source": [
    "# -*- coding: utf-8 -*-\n",
    "\n",
    "#黄金分割法python实现\n",
    "#f(x)=x^4 - 4x^3 - 6x^2 -16x +4极值\n",
    "#区间[-1,6] e=0.05\n",
    "\n",
    "import numpy as np\n",
    "import matplotlib.pyplot as plt\n",
    "\n",
    "rate = 0.618034\n",
    "pointset = []\n",
    "x = 0\n",
    "y = 0\n",
    "\n",
    "def f(x):\n",
    "    return 1.0 * (pow(x, 4) - 4 * pow(x, 3) - 6 * pow(x, 2) - 16 * x + 4)\n",
    "\n",
    "def backtrace(f, a0, b0, accuracy):\n",
    "\n",
    "    a = a0\n",
    "    b = b0\n",
    "    x2 = a + rate*(b - a)\n",
    "    x1 = a + b - x2\n",
    "    f2 = f(x2)\n",
    "    f1 = f(x1)\n",
    "    print( x1, x2, '\\n')\n",
    "    arr = search(f, a, b, f1, f2, x1, x2, accuracy)\n",
    "    printFunc(f, a, b, arr[0], arr[1])\n",
    "\n",
    "def search(f, a, b, f1, f2, x1, x2, accuracy):\n",
    "    if f1 <= f2:\n",
    "        if x2 - a < accuracy:\n",
    "            x = x1\n",
    "            y = f1\n",
    "            print( x, y)\n",
    "            return (x, y)\n",
    "        else:\n",
    "            a = x1\n",
    "            x1 = x2\n",
    "            f1 = f2\n",
    "            x2 = a + b - x1\n",
    "            f2 = f(x2)\n",
    "            print(x1, x2, '\\n')\n",
    "            return search(f, a, b, f1, f2, x1, x2, accuracy)\n",
    "\n",
    "    else:\n",
    "        if b - x1 < accuracy:\n",
    "            x = x2\n",
    "            y = f2\n",
    "            print (x, y)\n",
    "            return (x, y)\n",
    "        else:\n",
    "            b = x2\n",
    "            x2 = x1\n",
    "            f2 = f1\n",
    "            x1 = a + b - x2\n",
    "            f1 = f(x1)\n",
    "            print( x1, x2, '\\n')\n",
    "            return search(f, a, b, f1, f2, x1, x2, accuracy)\n",
    "\n",
    "\n",
    "#绘制函数图像\n",
    "\n",
    "def printFunc(f, a, b, x, y):\n",
    "    t = np.arange(a, b, 0.01)\n",
    "    s = f(t)\n",
    "    plt.plot(t, s)\n",
    "    plt.plot([x], [y], 'ro')\n",
    "    plt.show()\n",
    "\n"
   ]
  },
  {
   "cell_type": "code",
   "execution_count": 23,
   "outputs": [
    {
     "name": "stdout",
     "output_type": "stream",
     "text": [
      "0.0076393200000000015 0.012360679999999999 \n",
      "\n",
      "0.004721359999999997 0.0076393200000000015 \n",
      "\n",
      "0.002917960000000004 0.004721359999999997 \n",
      "\n",
      "0.0018033999999999932 0.002917960000000004 \n",
      "\n",
      "0.001114560000000011 0.0018033999999999932 \n",
      "\n",
      "0.0006888399999999822 0.001114560000000011 \n",
      "\n",
      "0.0004257200000000287 0.0006888399999999822 \n",
      "\n",
      "0.00026311999999995353 0.0004257200000000287 \n",
      "\n",
      "0.00016260000000007518 0.00026311999999995353 \n",
      "\n",
      "0.00010051999999987835 0.00016260000000007518 \n",
      "\n",
      "6.208000000019684e-05 0.00010051999999987835 \n",
      "\n",
      "3.843999999968151e-05 6.208000000019684e-05 \n",
      "\n",
      "6.208000000019684e-05 0.1386076982659876\n"
     ]
    },
    {
     "data": {
      "text/plain": "<Figure size 432x288 with 1 Axes>",
      "image/png": "[encoded data removed]"
     },
     "metadata": {
      "needs_background": "light"
     },
     "output_type": "display_data"
    }
   ],
   "source": [
    "r_d2d = 30\n",
    "r_bs = 100\n",
    "value = (r_d2d/r_bs)**2\n",
    "l_m = 0.7\n",
    "N=50\n",
    "xxxx = 0.02\n",
    "\n",
    "def d2d_seg(f_m): #目标函数\n",
    "    h_m=2*xxxx-2*f_m\n",
    "    a=(1-l_m)*(f_m+(1-f_m)*(1-np.exp(-1*N*value*f_m)))\n",
    "    b=l_m*((f_m+h_m)+(1-f_m-h_m)*(1-np.exp(-1*N*value*(f_m+h_m))))\n",
    "    #print(a,b)\n",
    "    #print(f_m,h_m)\n",
    "\n",
    "    return  1*(a+b)\n",
    "\n",
    "backtrace(d2d_seg,max(0,xxxx-0.5),xxxx,0.0001)"
   ],
   "metadata": {
    "collapsed": false,
    "pycharm": {
     "name": "#%%\n"
    }
   }
  },
  {
   "cell_type": "code",
   "execution_count": null,
   "outputs": [],
   "source": [],
   "metadata": {
    "collapsed": false,
    "pycharm": {
     "name": "#%%\n"
    }
   }
  }
 ],
 "metadata": {
  "kernelspec": {
   "display_name": "Python 3",
   "language": "python",
   "name": "python3"
  },
  "language_info": {
   "codemirror_mode": {
    "name": "ipython",
    "version": 2
   },
   "file_extension": ".py",
   "mimetype": "text/x-python",
   "name": "python",
   "nbconvert_exporter": "python",
   "pygments_lexer": "ipython2",
   "version": "2.7.6"
  }
 },
 "nbformat": 4,
 "nbformat_minor": 0
}