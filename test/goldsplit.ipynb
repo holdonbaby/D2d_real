{
 "cells": [
  {
   "cell_type": "code",
   "execution_count": 1,
   "metadata": {
    "collapsed": true
   },
   "outputs": [],
   "source": [
    "# -*- coding: utf-8 -*-\n",
    "\n",
    "#黄金分割法python实现\n",
    "#f(x)=x^4 - 4x^3 - 6x^2 -16x +4极值\n",
    "#区间[-1,6] e=0.05\n",
    "\n",
    "import numpy as np\n",
    "import matplotlib.pyplot as plt\n",
    "\n",
    "rate = 0.618034\n",
    "pointset = []\n",
    "x = 0\n",
    "y = 0\n",
    "\n",
    "def f(x):\n",
    "    return 1.0 * (pow(x, 4) - 4 * pow(x, 3) - 6 * pow(x, 2) - 16 * x + 4)\n",
    "\n",
    "def backtrace(f, a0, b0, accuracy):\n",
    "\n",
    "    a = a0\n",
    "    b = b0\n",
    "    x2 = a + rate*(b - a)\n",
    "    x1 = a + b - x2\n",
    "    f2 = f(x2)\n",
    "    f1 = f(x1)\n",
    "    print( x1, x2, '\\n')\n",
    "    arr = search(f, a, b, f1, f2, x1, x2, accuracy)\n",
    "    printFunc(f, a, b, arr[0], arr[1])\n",
    "\n",
    "def search(f, a, b, f1, f2, x1, x2, accuracy):\n",
    "    if f1 <= f2:\n",
    "        if x2 - a < accuracy:\n",
    "            x = x1\n",
    "            y = f1\n",
    "            print( x, y)\n",
    "            return (x, y)\n",
    "        else:\n",
    "            a = x1\n",
    "            x1 = x2\n",
    "            f1 = f2\n",
    "            x2 = a + b - x1\n",
    "            f2 = f(x2)\n",
    "            print(x1, x2, '\\n')\n",
    "            return search(f, a, b, f1, f2, x1, x2, accuracy)\n",
    "\n",
    "    else:\n",
    "        if b - x1 < accuracy:\n",
    "            x = x2\n",
    "            y = f2\n",
    "            print (x, y)\n",
    "            return (x, y)\n",
    "        else:\n",
    "            b = x2\n",
    "            x2 = x1\n",
    "            f2 = f1\n",
    "            x1 = a + b - x2\n",
    "            f1 = f(x1)\n",
    "            print( x1, x2, '\\n')\n",
    "            return search(f, a, b, f1, f2, x1, x2, accuracy)\n",
    "\n",
    "\n",
    "#绘制函数图像\n",
    "\n",
    "def printFunc(f, a, b, x, y):\n",
    "    t = np.arange(a, b, 0.01)\n",
    "    s = f(t)\n",
    "    plt.plot(t, s)\n",
    "    plt.plot([x], [y], 'ro')\n",
    "    plt.show()\n",
    "\n",
    "def d2d_seg(f_m): #目标函数\n",
    "    h_m=2*xxxx-2*f_m\n",
    "    a=(1-l_m)*(f_m+(1-f_m)*(1-np.exp(-1*N*value*f_m)))\n",
    "    b=l_m*((f_m+h_m)+(1-f_m-h_m)*(1-np.exp(-1*N*value*(f_m+h_m))))\n",
    "    #print(a,b)\n",
    "    #print(f_m,h_m)\n",
    "\n",
    "    return  1*(a+b)"
   ]
  },
  {
   "cell_type": "code",
   "execution_count": 17,
   "outputs": [
    {
     "name": "stdout",
     "output_type": "stream",
     "text": [
      "0.290983 0.40901699999999996 \n",
      "\n",
      "0.40901699999999996 0.481966 \n",
      "\n",
      "0.36393200000000003 0.40901699999999996 \n",
      "\n",
      "0.3360679999999999 0.36393200000000003 \n",
      "\n",
      "0.36393200000000003 0.38115299999999985 \n",
      "\n",
      "0.35328899999999974 0.36393200000000003 \n",
      "\n",
      "0.3467110000000002 0.35328899999999974 \n",
      "\n",
      "0.35328899999999974 0.3573540000000005 \n",
      "\n",
      "0.350776000000001 0.35328899999999974 \n",
      "\n",
      "0.35328899999999974 0.35484100000000174 \n",
      "\n",
      "0.35232800000000297 0.35328899999999974 \n",
      "\n",
      "0.35328899999999974 0.35388000000000497 \n",
      "\n",
      "0.35388000000000497 0.3542499999999965 \n",
      "\n",
      "0.3536589999999913 0.35388000000000497 \n",
      "\n",
      "0.35388000000000497 0.35402899999998283 \n",
      "\n",
      "0.35380799999996915 0.35388000000000497 \n",
      "\n",
      "0.35388000000000497 0.353956999999947 \n",
      "\n",
      "0.353956999999947 0.3539520000000408 \n",
      "\n",
      "0.353956999999947 0.8177166328772671\n"
     ]
    },
    {
     "data": {
      "text/plain": "<Figure size 432x288 with 1 Axes>",
      "image/png": "[encoded data removed]"
     },
     "metadata": {
      "needs_background": "light"
     },
     "output_type": "display_data"
    }
   ],
   "source": [
    "r_d2d = 50\n",
    "r_bs = 500\n",
    "value = (r_d2d/r_bs)**2\n",
    "l_m = 0.7\n",
    "N=100\n",
    "xxxx = 0.6\n",
    "\n",
    "def d2d_seg(f_m): #目标函数\n",
    "    h_m=2*xxxx-2*f_m\n",
    "    a=(1-l_m)*(f_m+(1-f_m)*(1-np.exp(-1*N*value*f_m)))\n",
    "    b=l_m*((f_m+h_m)+(1-f_m-h_m)*(1-np.exp(-1*N*value*(f_m+h_m))))\n",
    "    #print(a,b)\n",
    "    #print(f_m,h_m)\n",
    "\n",
    "    return  1*(a+b)\n",
    "\n",
    "backtrace(d2d_seg,max(0,xxxx-0.5),xxxx,0.0001)"
   ],
   "metadata": {
    "collapsed": false,
    "pycharm": {
     "name": "#%%\n"
    }
   }
  },
  {
   "cell_type": "code",
   "execution_count": 13,
   "outputs": [],
   "source": [
    "from userpreference.zipf import zipf_distribute\n",
    "\n",
    "old_result = [0.49577432 ,0.52001473,0.54167046,0.56120152,0.57897014,0.59525741\n",
    ", 0.61028611 ,0.6242337  ,0.63724317 ,0.64943152]\n",
    "\n",
    "#重制默认值\n",
    "M=100\n",
    "alpha = 1.0\n",
    "lr = 1/(M*10)\n",
    "value = (30**2)/(100**2)\n",
    "N=100\n",
    "eta=0.00001\n",
    "cap =3\n",
    "zipf_n = zipf_distribute(alpha,M)\n",
    "\n",
    "def all_d2d(results,f_func):\n",
    "    ans=0\n",
    "    for i in range(len(results)):\n",
    "\n",
    "        ans+=f_func(zipf_n[i],results[i])\n",
    "    return ans\n",
    "\n",
    "def d2d(a,x):\n",
    "    return a-a*np.exp(-1.0*value* N * x)+a*x*np.exp(-1.0*value* N * x)"
   ],
   "metadata": {
    "collapsed": false,
    "pycharm": {
     "name": "#%%\n"
    }
   }
  },
  {
   "cell_type": "code",
   "execution_count": 15,
   "outputs": [
    {
     "data": {
      "text/plain": "[0.49577432,\n 0.52001473,\n 0.54167046,\n 0.56120152,\n 0.57897014,\n 0.59525741,\n 0.61028611,\n 0.6242337,\n 0.63724317,\n 0.64943152]"
     },
     "execution_count": 15,
     "metadata": {},
     "output_type": "execute_result"
    }
   ],
   "source": [
    "old_result"
   ],
   "metadata": {
    "collapsed": false,
    "pycharm": {
     "name": "#%%\n"
    }
   }
  },
  {
   "cell_type": "markdown",
   "source": [],
   "metadata": {
    "collapsed": false
   }
  },
  {
   "cell_type": "code",
   "execution_count": 14,
   "outputs": [
    {
     "name": "stdout",
     "output_type": "stream",
     "text": [
      "0.18936893391311999 0.30640538608688 \n",
      "\n",
      "0.30640538608688 0.3787378678262399 \n",
      "\n",
      "0.3787378678262399 0.42344183826064014 \n",
      "\n",
      "0.42344183826064014 0.4510703495655997 \n",
      "\n",
      "0.4510703495655997 0.46814580869504047 \n",
      "\n",
      "0.4405172973900809 0.4510703495655997 \n",
      "\n",
      "0.4510703495655997 0.45759275651952164 \n",
      "\n",
      "0.45759275651952164 0.46162340174111854 \n",
      "\n",
      "0.4551009947871966 0.45759275651952164 \n",
      "\n",
      "0.45356211129792473 0.4551009947871966 \n",
      "\n",
      "0.4551009947871966 0.45605387303024975 \n",
      "\n",
      "0.45605387303024975 0.4566398782764685 \n",
      "\n",
      "0.4556870000334154 0.45605387303024975 \n",
      "\n",
      "0.45605387303024975 0.45627300527963416 \n",
      "\n",
      "0.4559061322827998 0.45605387303024975 \n",
      "\n",
      "0.45583474078086533 0.4559061322827998 \n",
      "\n",
      "0.4559061322827998 0.4559824815283153 \n",
      "\n",
      "0.4559110900263808 0.4559061322827998 \n",
      "\n",
      "0.4559061322827998 0.9946833344725722\n"
     ]
    },
    {
     "data": {
      "text/plain": "<Figure size 432x288 with 1 Axes>",
      "image/png": "[encoded data removed]"
     },
     "metadata": {
      "needs_background": "light"
     },
     "output_type": "display_data"
    },
    {
     "name": "stdout",
     "output_type": "stream",
     "text": [
      "0.21099773 0.32903172999999997 \n",
      "\n",
      "0.32903172999999997 0.40198073 \n",
      "\n",
      "0.40198073 0.44706572999999994 \n",
      "\n",
      "0.44706572999999994 0.47492973000000005 \n",
      "\n",
      "0.47492973000000005 0.49215072999999987 \n",
      "\n",
      "0.46428672999999976 0.47492973000000005 \n",
      "\n",
      "0.47492973000000005 0.4815077299999996 \n",
      "\n",
      "0.4815077299999996 0.48557273000000034 \n",
      "\n",
      "0.4789947300000008 0.4815077299999996 \n",
      "\n",
      "0.4815077299999996 0.4830597300000016 \n",
      "\n",
      "0.4805467300000028 0.4815077299999996 \n",
      "\n",
      "0.4799557299999976 0.4805467300000028 \n",
      "\n",
      "0.4805467300000028 0.48091672999999435 \n",
      "\n",
      "0.4803257299999891 0.4805467300000028 \n",
      "\n",
      "0.48017673000001126 0.4803257299999891 \n",
      "\n",
      "0.4803257299999891 0.48039773000002495 \n",
      "\n",
      "0.48039773000002495 0.480474729999967 \n",
      "\n",
      "0.48040272999993117 0.48039773000002495 \n",
      "\n",
      "0.48039773000002495 0.9959320044382977\n"
     ]
    },
    {
     "data": {
      "text/plain": "<Figure size 432x288 with 1 Axes>",
      "image/png": "[encoded data removed]"
     },
     "metadata": {
      "needs_background": "light"
     },
     "output_type": "display_data"
    },
    {
     "name": "stdout",
     "output_type": "stream",
     "text": [
      "0.23265345999999998 0.35068745999999995 \n",
      "\n",
      "0.35068745999999995 0.42363646 \n",
      "\n",
      "0.42363646 0.4687214599999999 \n",
      "\n",
      "0.4687214599999999 0.49658546000000003 \n",
      "\n",
      "0.49658546000000003 0.51380646 \n",
      "\n",
      "0.48594245999999985 0.49658546000000003 \n",
      "\n",
      "0.49658546000000003 0.5031634599999998 \n",
      "\n",
      "0.5031634599999998 0.5072284600000002 \n",
      "\n",
      "0.5006504600000005 0.5031634599999998 \n",
      "\n",
      "0.5031634599999998 0.5047154600000009 \n",
      "\n",
      "0.5022024600000016 0.5031634599999998 \n",
      "\n",
      "0.5016114599999987 0.5022024600000016 \n",
      "\n",
      "0.5022024600000016 0.5025724599999969 \n",
      "\n",
      "0.501981459999994 0.5022024600000016 \n",
      "\n",
      "0.5022024600000016 0.5023514599999893 \n",
      "\n",
      "0.5023514599999893 0.5024234600000091 \n",
      "\n",
      "0.5022744600000214 0.5023514599999893 \n",
      "\n",
      "0.5022794599999695 0.5022744600000214 \n",
      "\n",
      "0.5022744600000214 0.9968042697389842\n"
     ]
    },
    {
     "data": {
      "text/plain": "<Figure size 432x288 with 1 Axes>",
      "image/png": "[encoded data removed]"
     },
     "metadata": {
      "needs_background": "light"
     },
     "output_type": "display_data"
    },
    {
     "name": "stdout",
     "output_type": "stream",
     "text": [
      "0.25218452 0.37021852 \n",
      "\n",
      "0.37021852 0.44316752000000004 \n",
      "\n",
      "0.44316752000000004 0.48825251999999997 \n",
      "\n",
      "0.48825251999999997 0.5161165200000001 \n",
      "\n",
      "0.5161165200000001 0.53333752 \n",
      "\n",
      "0.5054735199999999 0.5161165200000001 \n",
      "\n",
      "0.5161165200000001 0.5226945199999998 \n",
      "\n",
      "0.5226945199999998 0.5267595200000003 \n",
      "\n",
      "0.5201815200000005 0.5226945199999998 \n",
      "\n",
      "0.5226945199999998 0.5242465200000009 \n",
      "\n",
      "0.5217335200000016 0.5226945199999998 \n",
      "\n",
      "0.5211425199999987 0.5217335200000016 \n",
      "\n",
      "0.5217335200000016 0.5221035199999969 \n",
      "\n",
      "0.5221035199999969 0.5223245200000045 \n",
      "\n",
      "0.5219545200000092 0.5221035199999969 \n",
      "\n",
      "0.5221035199999969 0.5221755200000168 \n",
      "\n",
      "0.522026520000029 0.5221035199999969 \n",
      "\n",
      "0.5220315199999771 0.522026520000029 \n",
      "\n",
      "0.522026520000029 0.99743433243848\n"
     ]
    },
    {
     "data": {
      "text/plain": "<Figure size 432x288 with 1 Axes>",
      "image/png": "[encoded data removed]"
     },
     "metadata": {
      "needs_background": "light"
     },
     "output_type": "display_data"
    },
    {
     "name": "stdout",
     "output_type": "stream",
     "text": [
      "0.26995314000000004 0.38798714 \n",
      "\n",
      "0.38798714 0.46093614000000005 \n",
      "\n",
      "0.46093614000000005 0.50602114 \n",
      "\n",
      "0.50602114 0.5338851400000001 \n",
      "\n",
      "0.5338851400000001 0.55110614 \n",
      "\n",
      "0.5232421399999999 0.5338851400000001 \n",
      "\n",
      "0.5338851400000001 0.5404631399999998 \n",
      "\n",
      "0.5404631399999998 0.5445281400000003 \n",
      "\n",
      "0.5379501400000005 0.5404631399999998 \n",
      "\n",
      "0.5404631399999998 0.542015140000001 \n",
      "\n",
      "0.5395021400000016 0.5404631399999998 \n",
      "\n",
      "0.5404631399999998 0.5410541400000027 \n",
      "\n",
      "0.5400931400000045 0.5404631399999998 \n",
      "\n",
      "0.539872139999997 0.5400931400000045 \n",
      "\n",
      "0.5400931400000045 0.5402421399999923 \n",
      "\n",
      "0.5400211399999847 0.5400931400000045 \n",
      "\n",
      "0.5399441400000168 0.5400211399999847 \n",
      "\n",
      "0.5400211399999847 0.5400161400000366 \n",
      "\n",
      "0.5400161400000366 0.9979026139645026\n"
     ]
    },
    {
     "data": {
      "text/plain": "<Figure size 432x288 with 1 Axes>",
      "image/png": "[encoded data removed]"
     },
     "metadata": {
      "needs_background": "light"
     },
     "output_type": "display_data"
    },
    {
     "name": "stdout",
     "output_type": "stream",
     "text": [
      "0.28624041 0.40427441 \n",
      "\n",
      "0.40427441 0.47722341 \n",
      "\n",
      "0.47722341 0.52230841 \n",
      "\n",
      "0.52230841 0.5501724100000001 \n",
      "\n",
      "0.5501724100000001 0.5673934099999998 \n",
      "\n",
      "0.5395294099999997 0.5501724100000001 \n",
      "\n",
      "0.5501724100000001 0.5567504099999994 \n",
      "\n",
      "0.5567504099999994 0.5608154100000005 \n",
      "\n",
      "0.5542374100000012 0.5567504099999994 \n",
      "\n",
      "0.5567504099999994 0.5583024100000022 \n",
      "\n",
      "0.555789410000004 0.5567504099999994 \n",
      "\n",
      "0.5567504099999994 0.5573414100000069 \n",
      "\n",
      "0.5563804100000116 0.5567504099999994 \n",
      "\n",
      "0.5561594099999918 0.5563804100000116 \n",
      "\n",
      "0.5563804100000116 0.5565294099999796 \n",
      "\n",
      "0.5565294099999796 0.5566014100000314 \n",
      "\n",
      "0.5564524100000634 0.5565294099999796 \n",
      "\n",
      "0.5565294099999796 0.5565244100001152 \n",
      "\n",
      "0.5565244100001152 0.998259143935081\n"
     ]
    },
    {
     "data": {
      "text/plain": "<Figure size 432x288 with 1 Axes>",
      "image/png": "[encoded data removed]"
     },
     "metadata": {
      "needs_background": "light"
     },
     "output_type": "display_data"
    },
    {
     "name": "stdout",
     "output_type": "stream",
     "text": [
      "0.30126911 0.41930311 \n",
      "\n",
      "0.41930311 0.49225211 \n",
      "\n",
      "0.49225211 0.5373371100000001 \n",
      "\n",
      "0.5373371100000001 0.56520111 \n",
      "\n",
      "0.56520111 0.5824221100000001 \n",
      "\n",
      "0.5545581100000002 0.56520111 \n",
      "\n",
      "0.56520111 0.5717791100000004 \n",
      "\n",
      "0.5717791100000004 0.5758441099999997 \n",
      "\n",
      "0.5692661099999993 0.5717791100000004 \n",
      "\n",
      "0.5717791100000004 0.5733311099999986 \n",
      "\n",
      "0.5708181099999975 0.5717791100000004 \n",
      "\n",
      "0.5717791100000004 0.5723701099999957 \n",
      "\n",
      "0.5714091099999928 0.5717791100000004 \n",
      "\n",
      "0.5717791100000004 0.5720001099999882 \n",
      "\n",
      "0.5716301099999807 0.5717791100000004 \n",
      "\n",
      "0.5717791100000004 0.5718511099999685 \n",
      "\n",
      "0.5717021099999487 0.5717791100000004 \n",
      "\n",
      "0.5717791100000004 0.5717741099999168 \n",
      "\n",
      "0.5717791100000004 0.9985362544026738\n"
     ]
    },
    {
     "data": {
      "text/plain": "<Figure size 432x288 with 1 Axes>",
      "image/png": "[encoded data removed]"
     },
     "metadata": {
      "needs_background": "light"
     },
     "output_type": "display_data"
    },
    {
     "name": "stdout",
     "output_type": "stream",
     "text": [
      "0.3152167 0.4332507 \n",
      "\n",
      "0.4332507 0.5061997 \n",
      "\n",
      "0.5061997 0.5512846999999998 \n",
      "\n",
      "0.5512846999999998 0.5791487000000002 \n",
      "\n",
      "0.5791487000000002 0.5963696999999997 \n",
      "\n",
      "0.5685056999999993 0.5791487000000002 \n",
      "\n",
      "0.5791487000000002 0.5857266999999988 \n",
      "\n",
      "0.5857266999999988 0.589791700000001 \n",
      "\n",
      "0.5832137000000024 0.5857266999999988 \n",
      "\n",
      "0.5857266999999988 0.5872787000000046 \n",
      "\n",
      "0.5847657000000082 0.5857266999999988 \n",
      "\n",
      "0.5857266999999988 0.5863177000000139 \n",
      "\n",
      "0.5853567000000233 0.5857266999999988 \n",
      "\n",
      "0.5857266999999988 0.5859477000000384 \n",
      "\n",
      "0.5859477000000384 0.5860966999999744 \n",
      "\n",
      "0.5858756999999348 0.5859477000000384 \n",
      "\n",
      "0.5859477000000384 0.5860246999998708 \n",
      "\n",
      "0.5859526999997673 0.5859477000000384 \n",
      "\n",
      "0.5859526999997673 0.9987554947188171\n"
     ]
    },
    {
     "data": {
      "text/plain": "<Figure size 432x288 with 1 Axes>",
      "image/png": "[encoded data removed]"
     },
     "metadata": {
      "needs_background": "light"
     },
     "output_type": "display_data"
    },
    {
     "name": "stdout",
     "output_type": "stream",
     "text": [
      "0.32822617 0.44626016999999996 \n",
      "\n",
      "0.44626016999999996 0.51920917 \n",
      "\n",
      "0.51920917 0.56429417 \n",
      "\n",
      "0.56429417 0.5921581699999999 \n",
      "\n",
      "0.5921581699999999 0.6093791700000001 \n",
      "\n",
      "0.5815151700000002 0.5921581699999999 \n",
      "\n",
      "0.5921581699999999 0.5987361700000003 \n",
      "\n",
      "0.5987361700000003 0.6028011699999997 \n",
      "\n",
      "0.5962231699999992 0.5987361700000003 \n",
      "\n",
      "0.5987361700000003 0.6002881699999986 \n",
      "\n",
      "0.5977751699999975 0.5987361700000003 \n",
      "\n",
      "0.5987361700000003 0.5993271699999957 \n",
      "\n",
      "0.5993271699999957 0.5996971700000032 \n",
      "\n",
      "0.5991061700000079 0.5993271699999957 \n",
      "\n",
      "0.5989571699999882 0.5991061700000079 \n",
      "\n",
      "0.5991061700000079 0.599178169999976 \n",
      "\n",
      "0.5990291699999563 0.5991061700000079 \n",
      "\n",
      "0.5991061700000079 0.5991011699999244 \n",
      "\n",
      "0.5991011699999244 0.9989316391304208\n"
     ]
    },
    {
     "data": {
      "text/plain": "<Figure size 432x288 with 1 Axes>",
      "image/png": "[encoded data removed]"
     },
     "metadata": {
      "needs_background": "light"
     },
     "output_type": "display_data"
    },
    {
     "name": "stdout",
     "output_type": "stream",
     "text": [
      "0.34041452000000005 0.45844852 \n",
      "\n",
      "0.45844852 0.5313975200000001 \n",
      "\n",
      "0.5313975200000001 0.5764825199999999 \n",
      "\n",
      "0.5764825199999999 0.6043465200000002 \n",
      "\n",
      "0.6043465200000002 0.6215675199999997 \n",
      "\n",
      "0.5937035199999994 0.6043465200000002 \n",
      "\n",
      "0.6043465200000002 0.6109245199999989 \n",
      "\n",
      "0.6109245199999989 0.6149895200000011 \n",
      "\n",
      "0.6084115200000024 0.6109245199999989 \n",
      "\n",
      "0.6109245199999989 0.6124765200000046 \n",
      "\n",
      "0.6099635200000082 0.6109245199999989 \n",
      "\n",
      "0.6109245199999989 0.611515520000014 \n",
      "\n",
      "0.611515520000014 0.6118855199999895 \n",
      "\n",
      "0.6112945199999744 0.611515520000014 \n",
      "\n",
      "0.611515520000014 0.61166451999995 \n",
      "\n",
      "0.6114435199999104 0.611515520000014 \n",
      "\n",
      "0.611515520000014 0.6115925199998464 \n",
      "\n",
      "0.6115205199997429 0.611515520000014 \n",
      "\n",
      "0.6115205199997429 0.999075077263238\n"
     ]
    },
    {
     "data": {
      "text/plain": "<Figure size 432x288 with 1 Axes>",
      "image/png": "[encoded data removed]"
     },
     "metadata": {
      "needs_background": "light"
     },
     "output_type": "display_data"
    }
   ],
   "source": [
    "for i in old_result:\n",
    "    xxxx=i\n",
    "    backtrace(d2d_seg,max(0,xxxx-0.5),xxxx,0.0001)"
   ],
   "metadata": {
    "collapsed": false,
    "pycharm": {
     "name": "#%%\n"
    }
   }
  },
  {
   "cell_type": "code",
   "execution_count": null,
   "outputs": [],
   "source": [],
   "metadata": {
    "collapsed": false,
    "pycharm": {
     "name": "#%%\n"
    }
   }
  }
 ],
 "metadata": {
  "kernelspec": {
   "display_name": "Python 3",
   "language": "python",
   "name": "python3"
  },
  "language_info": {
   "codemirror_mode": {
    "name": "ipython",
    "version": 2
   },
   "file_extension": ".py",
   "mimetype": "text/x-python",
   "name": "python",
   "nbconvert_exporter": "python",
   "pygments_lexer": "ipython2",
   "version": "2.7.6"
  }
 },
 "nbformat": 4,
 "nbformat_minor": 0
}