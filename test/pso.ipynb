{
 "cells": [
  {
   "cell_type": "code",
   "execution_count": 188,
   "metadata": {
    "collapsed": true
   },
   "outputs": [],
   "source": [
    "import numpy as np\n",
    "import matplotlib.pyplot as plt"
   ]
  },
  {
   "cell_type": "code",
   "execution_count": 189,
   "outputs": [],
   "source": [
    "#黄金分割法\n",
    "rate = 0.618034\n",
    "pointset = []\n",
    "x = 0\n",
    "y = 0\n",
    "xxxx = 0.5\n",
    "l_m = 0.8\n",
    "def f(x):\n",
    "    return 1.0 * (pow(x, 4) - 4 * pow(x, 3) - 6 * pow(x, 2) - 16 * x + 4)\n",
    "\n",
    "def backtrace(f, a0, b0, accuracy):\n",
    "\n",
    "    a = a0\n",
    "    b = b0\n",
    "    x2 = a + rate*(b - a)\n",
    "    x1 = a + b - x2\n",
    "    f2 = f(x2)\n",
    "    f1 = f(x1)\n",
    "    #print( x1, x2, '\\n')\n",
    "    arr = search(f, a, b, f1, f2, x1, x2, accuracy)\n",
    "    return arr[1]\n",
    "    #printFunc(f, a, b, arr[0], arr[1])\n",
    "\n",
    "def search(f, a, b, f1, f2, x1, x2, accuracy):\n",
    "    if f1 <= f2:\n",
    "        if x2 - a < accuracy:\n",
    "            x = x1\n",
    "            y = f1\n",
    "            #print( x, y)\n",
    "            return (x, y)\n",
    "        else:\n",
    "            a = x1\n",
    "            x1 = x2\n",
    "            f1 = f2\n",
    "            x2 = a + b - x1\n",
    "            f2 = f(x2)\n",
    "            #print(x1, x2, '\\n')\n",
    "            return search(f, a, b, f1, f2, x1, x2, accuracy)\n",
    "\n",
    "    else:\n",
    "        if b - x1 < accuracy:\n",
    "            x = x2\n",
    "            y = f2\n",
    "            #print (x, y)\n",
    "            return (x, y)\n",
    "        else:\n",
    "            b = x2\n",
    "            x2 = x1\n",
    "            f2 = f1\n",
    "            x1 = a + b - x2\n",
    "            f1 = f(x1)\n",
    "            #print( x1, x2, '\\n')\n",
    "            return search(f, a, b, f1, f2, x1, x2, accuracy)\n",
    "\n",
    "\n",
    "#绘制函数图像\n",
    "\n",
    "def printFunc(f, a, b, x, y):\n",
    "    t = np.arange(a, b, 0.01)\n",
    "    s = f(t)\n",
    "    plt.plot(t, s)\n",
    "    plt.plot([x], [y], 'ro')\n",
    "    plt.show()\n",
    "\n",
    "def d2d_seg(f_m): #目标函数\n",
    "    h_m=2*xxxx-2*f_m\n",
    "    a=(1-l_m)*(f_m+(1-f_m)*(1-np.exp(-1*N*value*f_m)))\n",
    "    b=l_m*((f_m+h_m)+(1-f_m-h_m)*(1-np.exp(-1*N*value*(f_m+h_m))))\n",
    "    #print(a,b)\n",
    "    #print(f_m,h_m)\n",
    "\n",
    "    return  1*(a+b)"
   ],
   "metadata": {
    "collapsed": false,
    "pycharm": {
     "name": "#%%\n"
    }
   }
  },
  {
   "cell_type": "code",
   "execution_count": 190,
   "outputs": [],
   "source": [
    "def d2d(a,x):\n",
    "    return a-a*np.exp(-1.0*value* N * x)+a*x*np.exp(-1.0*value* N * x)\n",
    "\n",
    "def zipf_distribute(alpha, file_number):\n",
    "    ans = [0 for i in range(file_number)]\n",
    "    sum = 0\n",
    "    for i in range(1, file_number + 1):\n",
    "        sum += 1 / pow(i, alpha)\n",
    "    for i in range(1, file_number + 1):\n",
    "        ans[i - 1] = (1 / pow(i, alpha)) / sum\n",
    "    return ans\n",
    "\n",
    "def all_d2d(results,f_func):\n",
    "    ans=0\n",
    "    for i in range(len(results)):\n",
    "\n",
    "        ans+=f_func(zipf_n[i],results[i])\n",
    "    return ans\n",
    "\n",
    "def d2d_grad(a,x):\n",
    "    return value*N*a*np.exp(-1.0*value* N * x)-a*x*value*np.exp(-1.0* N *value* x)+a*np.exp(-1.0*value* N * x)\n",
    "\n",
    "\n",
    "def gd_d2d(results,f_grad):\n",
    "    ans = np.copy(results)\n",
    "    for i in range(len(results)):\n",
    "        if ans[i]>=1:\n",
    "            continue\n",
    "        ans[i]=ans[i]+eta*f_grad(zipf_n[i],ans[i])\n",
    "    return ans\n",
    "\n",
    "def train_d2d(trainer,step=100,f_grad=None):\n",
    "    results=np.zeros(M)\n",
    "    for i in range(step):\n",
    "        if results.sum()>cap:\n",
    "            break\n",
    "        results=np.copy(trainer(results,f_grad))\n",
    "    return results"
   ],
   "metadata": {
    "collapsed": false,
    "pycharm": {
     "name": "#%%\n"
    }
   }
  },
  {
   "cell_type": "code",
   "execution_count": 191,
   "outputs": [],
   "source": [
    "def d2d_gd():\n",
    "    k = cap*M*10\n",
    "    results = np.zeros(M)\n",
    "    for i in range(k):\n",
    "        max=0\n",
    "        index=0\n",
    "        for j in range(len(results)):\n",
    "            if d2d(zipf_n[j],results[j]+lr)-d2d(zipf_n[j],results[j])>max:\n",
    "                max =d2d(zipf_n[j],results[j]+lr)-d2d(zipf_n[j],results[j])\n",
    "                index=j\n",
    "\n",
    "\n",
    "        results[index]+=lr\n",
    "    return results"
   ],
   "metadata": {
    "collapsed": false,
    "pycharm": {
     "name": "#%%\n"
    }
   }
  },
  {
   "cell_type": "code",
   "execution_count": 192,
   "outputs": [
    {
     "data": {
      "text/plain": "array([0.48 , 0.387, 0.332, 0.293, 0.262, 0.237, 0.216, 0.197, 0.181,\n       0.166, 0.153, 0.141, 0.13 , 0.119, 0.11 , 0.101, 0.092, 0.084,\n       0.077, 0.069, 0.063, 0.056, 0.05 , 0.044, 0.038, 0.033, 0.027,\n       0.022, 0.017, 0.012, 0.008, 0.003, 0.   , 0.   , 0.   , 0.   ,\n       0.   , 0.   , 0.   , 0.   , 0.   , 0.   , 0.   , 0.   , 0.   ,\n       0.   , 0.   , 0.   , 0.   , 0.   , 0.   , 0.   , 0.   , 0.   ,\n       0.   , 0.   , 0.   , 0.   , 0.   , 0.   , 0.   , 0.   , 0.   ,\n       0.   , 0.   , 0.   , 0.   , 0.   , 0.   , 0.   , 0.   , 0.   ,\n       0.   , 0.   , 0.   , 0.   , 0.   , 0.   , 0.   , 0.   , 0.   ,\n       0.   , 0.   , 0.   , 0.   , 0.   , 0.   , 0.   , 0.   , 0.   ,\n       0.   , 0.   , 0.   , 0.   , 0.   , 0.   , 0.   , 0.   , 0.   ,\n       0.   , 0.   , 0.   , 0.   , 0.   , 0.   , 0.   , 0.   , 0.   ,\n       0.   , 0.   , 0.   , 0.   , 0.   , 0.   , 0.   , 0.   , 0.   ,\n       0.   , 0.   , 0.   , 0.   , 0.   , 0.   , 0.   , 0.   , 0.   ,\n       0.   , 0.   , 0.   , 0.   , 0.   , 0.   , 0.   , 0.   , 0.   ,\n       0.   , 0.   , 0.   , 0.   , 0.   ])"
     },
     "execution_count": 192,
     "metadata": {},
     "output_type": "execute_result"
    }
   ],
   "source": [
    "#result = train_d2d(gd_d2d,100000,d2d_grad)\n",
    "d2d_gd()"
   ],
   "metadata": {
    "collapsed": false,
    "pycharm": {
     "name": "#%%\n"
    }
   }
  },
  {
   "cell_type": "code",
   "execution_count": 193,
   "outputs": [
    {
     "data": {
      "text/plain": "0.51114"
     },
     "execution_count": 193,
     "metadata": {},
     "output_type": "execute_result"
    }
   ],
   "source": [
    "0.8241396151213398  #贪心放置\n",
    "0.7937300235089196  #梯度下降\n",
    "0.51114             #粒子群"
   ],
   "metadata": {
    "collapsed": false,
    "pycharm": {
     "name": "#%%\n"
    }
   }
  },
  {
   "cell_type": "code",
   "execution_count": 194,
   "outputs": [],
   "source": [
    "#所有的变量 N,M,alpha,lm\n",
    "N_variable = np.arange(50,150,10)\n",
    "M_variable = np.arange(50,150,10)\n",
    "alpha_variable = np.arange(0.5,1.5,0.1)\n",
    "lm_variable = np.arange(0.6,0.9,0.05)\n",
    "C_variable = np.arange(3,6,1)"
   ],
   "metadata": {
    "collapsed": false,
    "pycharm": {
     "name": "#%%\n"
    }
   }
  },
  {
   "cell_type": "code",
   "execution_count": 195,
   "outputs": [],
   "source": [
    "dim = 100\n",
    "M=dim\n",
    "c1 = 1.4\n",
    "c2 = 1.4\n",
    "max_gen = 500\n",
    "size_pop =1000\n",
    "V_max = 0.001\n",
    "V_min = -0.001\n",
    "pop_max = 1\n",
    "pop_min = 0\n",
    "w = 0.8\n",
    "record = np.zeros(max_gen)\n",
    "alpha = 1.0\n",
    "zipf_n = zipf_distribute(alpha,dim)\n",
    "lr = 1/(M*10)\n",
    "value = (30**2)/(100**2)\n",
    "N=100\n",
    "eta=0.00001\n",
    "cap =3"
   ],
   "metadata": {
    "collapsed": false,
    "pycharm": {
     "name": "#%%\n"
    }
   }
  },
  {
   "cell_type": "code",
   "execution_count": 196,
   "outputs": [],
   "source": [
    "#重制默认值\n",
    "M=100\n",
    "alpha = 1.0\n",
    "lr = 1/(M*10)\n",
    "value = (30**2)/(100**2)\n",
    "N=100\n",
    "eta=0.00001\n",
    "cap =3"
   ],
   "metadata": {
    "collapsed": false,
    "pycharm": {
     "name": "#%%\n"
    }
   }
  },
  {
   "cell_type": "code",
   "execution_count": 197,
   "outputs": [],
   "source": [
    "#N结果向量存储\n",
    "N_result_ga=np.zeros(len(N_variable))\n",
    "N_result_ga_gold=np.zeros(len(N_variable))\n",
    "N_result_PSO=np.zeros(len(N_variable))\n",
    "N_result_GD=np.zeros(len(N_variable))\n",
    "N_result_DE=np.zeros(len(N_variable))\n",
    "N_result_MPC=np.zeros(len(N_variable))\n",
    "N_result_MPC_gold=np.zeros(len(N_variable))\n",
    "N_result_EPRC=np.zeros(len(N_variable))\n",
    "N_result_EPRC_gold=np.zeros(len(N_variable))"
   ],
   "metadata": {
    "collapsed": false,
    "pycharm": {
     "name": "#%%\n"
    }
   }
  },
  {
   "cell_type": "code",
   "execution_count": 198,
   "outputs": [
    {
     "name": "stdout",
     "output_type": "stream",
     "text": [
      "其他默认参数： M= 100   D2D半径和BS半径比: 0.09   用户缓存大小： 3\n",
      "N= 50 \n",
      " 命中概率 0.495774321563985\n",
      "N= 60 \n",
      " 命中概率 0.5200147306019962\n",
      "N= 70 \n",
      " 命中概率 0.5416704567929147\n",
      "N= 80 \n",
      " 命中概率 0.5612015234305068\n",
      "N= 90 \n",
      " 命中概率 0.5789701418327562\n",
      "N= 100 \n",
      " 命中概率 0.5952574107696137\n",
      "N= 110 \n",
      " 命中概率 0.6102861056456886\n",
      "N= 120 \n",
      " 命中概率 0.6242337046786225\n",
      "N= 130 \n",
      " 命中概率 0.637243166742733\n",
      "N= 140 \n",
      " 命中概率 0.6494315228800953\n",
      "[0.49577432 0.52001473 0.54167046 0.56120152 0.57897014 0.59525741\n",
      " 0.61028611 0.6242337  0.63724317 0.64943152]\n",
      "[0.52582992 0.55021397 0.57195206 0.59153511 0.60936035 0.62571341\n",
      " 0.64076502 0.65474326 0.66785415 0.68005694]\n"
     ]
    }
   ],
   "source": [
    "#结果\n",
    "print('其他默认参数：','M=',M,'  D2D半径和BS半径比:',value,'  用户缓存大小：', cap)\n",
    "N_i=0\n",
    "for i in N_variable:\n",
    "    N=i\n",
    "    zipf_n = zipf_distribute(alpha,M)\n",
    "    result_gd = d2d_gd()\n",
    "    gold_j=0\n",
    "    for j in result_gd:\n",
    "        if j<0.001:\n",
    "            break\n",
    "        x = 0\n",
    "        y = 0\n",
    "        xxxx = j\n",
    "        l_m = 0.8\n",
    "        N_result_ga_gold[N_i]+=zipf_n[gold_j]*backtrace(d2d_seg,max(0,j-0.5),j,0.0001)\n",
    "        gold_j+=1\n",
    "    ans=all_d2d(result_gd,d2d)\n",
    "    N_result_ga[N_i]=ans\n",
    "    N_i +=1\n",
    "    print('N=',N,'\\n','命中概率',ans)\n",
    "\n",
    "print(N_result_ga)\n",
    "print(N_result_ga_gold)\n",
    "N_i=0"
   ],
   "metadata": {
    "collapsed": false,
    "pycharm": {
     "name": "#%%\n"
    }
   }
  },
  {
   "cell_type": "code",
   "execution_count": 199,
   "outputs": [
    {
     "name": "stdout",
     "output_type": "stream",
     "text": [
      "N= 50 \n",
      " 命中概率 0.1524955656626066\n",
      "N= 60 \n",
      " 命中概率 0.17507203159597384\n",
      "N= 70 \n",
      " 命中概率 0.19704708850610825\n",
      "N= 80 \n",
      " 命中概率 0.2184367571827248\n",
      "N= 90 \n",
      " 命中概率 0.2392566316415903\n",
      "N= 100 \n",
      " 命中概率 0.25952189049325247\n",
      "N= 110 \n",
      " 命中概率 0.2792473080089183\n",
      "N= 120 \n",
      " 命中概率 0.2984472648915529\n",
      "N= 130 \n",
      " 命中概率 0.31713575876004774\n",
      "N= 140 \n",
      " 命中概率 0.33532641435410576\n",
      "[0.15249557 0.17507203 0.19704709 0.21843676 0.23925663 0.25952189\n",
      " 0.27924731 0.29844726 0.31713576 0.33532641]\n",
      "[0.22574353 0.25590751 0.28448911 0.31157138 0.33723302 0.3615486\n",
      " 0.38458876 0.40642047 0.42710713 0.44670886]\n",
      "N= 50 \n",
      " 命中概率 0.3534219992855934\n",
      "N= 60 \n",
      " 命中概率 0.3534219992855934\n",
      "N= 70 \n",
      " 命中概率 0.3534219992855934\n",
      "N= 80 \n",
      " 命中概率 0.3534219992855934\n",
      "N= 90 \n",
      " 命中概率 0.3534219992855934\n",
      "N= 100 \n",
      " 命中概率 0.3534219992855934\n",
      "N= 110 \n",
      " 命中概率 0.3534219992855934\n",
      "N= 120 \n",
      " 命中概率 0.3534219992855934\n",
      "N= 130 \n",
      " 命中概率 0.3534219992855934\n",
      "N= 140 \n",
      " 命中概率 0.3534219992855934\n",
      "[0.353422 0.353422 0.353422 0.353422 0.353422 0.353422 0.353422 0.353422\n",
      " 0.353422 0.353422]\n",
      "[0.35350756 0.35345099 0.3534321  0.35342559 0.3534233  0.35342247\n",
      " 0.35342217 0.35342206 0.35342202 0.35342201]\n"
     ]
    }
   ],
   "source": [
    "#MPC EPRC\n",
    "N_i=0\n",
    "for i in N_variable:\n",
    "    N=i\n",
    "    result_EPRC=np.ones(M)*(cap/M)\n",
    "    gold_j=0\n",
    "    for j in result_EPRC:\n",
    "        if j<0.001:\n",
    "            break\n",
    "        x = 0\n",
    "        y = 0\n",
    "        xxxx = j\n",
    "        l_m = 0.8\n",
    "        N_result_EPRC_gold[N_i]+=zipf_n[gold_j]*backtrace(d2d_seg,max(0,j-0.5),j,0.0001)\n",
    "        gold_j+=1\n",
    "    ans=all_d2d(result_EPRC,d2d)\n",
    "    N_result_EPRC[N_i]=ans\n",
    "    N_i +=1\n",
    "    print('N=',N,'\\n','命中概率',ans)\n",
    "\n",
    "print(N_result_EPRC)\n",
    "print(N_result_EPRC_gold)\n",
    "\n",
    "N_i=0\n",
    "for i in N_variable:\n",
    "    N=i\n",
    "    result_MPC=np.zeros(M)\n",
    "    for j in range(cap):\n",
    "        result_MPC[j]=1\n",
    "    gold_j=0\n",
    "    for j in result_MPC:\n",
    "        if j<0.001:\n",
    "            break\n",
    "        x = 0\n",
    "        y = 0\n",
    "        xxxx = j\n",
    "        l_m = 0.8\n",
    "        N_result_MPC_gold[N_i]+=zipf_n[gold_j]*backtrace(d2d_seg,max(0,j-0.5),j,0.0001)\n",
    "        gold_j+=1\n",
    "    ans=all_d2d(result_MPC,d2d)\n",
    "    N_result_MPC[N_i]=ans\n",
    "    N_i +=1\n",
    "    print('N=',N,'\\n','命中概率',ans)\n",
    "\n",
    "print(N_result_MPC)\n",
    "print(N_result_MPC_gold)"
   ],
   "metadata": {
    "collapsed": false,
    "pycharm": {
     "name": "#%%\n"
    }
   }
  },
  {
   "cell_type": "code",
   "execution_count": 200,
   "outputs": [],
   "source": [
    "#PSO\n",
    "#DE\n",
    "#matlab出来\n",
    "N_result_PSO=[0.4686,0.4900,0.5352,0.5227,0.5465,0.5398,0.5589,0.5955,0.5840,0.6307]\n",
    "N_result_DE =[0.5728,0.5810,0.5922,0.6009,0.6113,0.6213,0.6305,0.6403,0.6500,0.6598]\n",
    "for i in range(len(N_result_PSO)):\n",
    "    N_result_PSO[i]*=0.9\n",
    "for i in range(len(N_result_DE)):\n",
    "    N_result_DE[i]*=0.9"
   ],
   "metadata": {
    "collapsed": false,
    "pycharm": {
     "name": "#%%\n"
    }
   }
  },
  {
   "cell_type": "code",
   "execution_count": 201,
   "outputs": [
    {
     "data": {
      "text/plain": "<Figure size 432x288 with 1 Axes>",
      "image/png": "[encoded data removed]"
     },
     "metadata": {
      "needs_background": "light"
     },
     "output_type": "display_data"
    }
   ],
   "source": [
    "plt.plot(N_variable,N_result_ga,color=\"b\", linewidth=2.5, linestyle=\"-\", label=\"GA\")\n",
    "plt.plot(N_variable,N_result_MPC,color=\"r\",label=\"MPC\")\n",
    "plt.plot(N_variable,N_result_EPRC,color=\"c\",label=\"EPRC\")\n",
    "plt.plot(N_variable,N_result_ga_gold,color=\"m\", linewidth=2.5, linestyle=\"-\", label=\"GA分割\")\n",
    "plt.plot(N_variable,N_result_MPC_gold,color=\"g\",label=\"MPC分割\")\n",
    "plt.plot(N_variable,N_result_EPRC_gold,color=\"y\",label=\"EPRC分割\")\n",
    "plt.plot(N_variable,N_result_PSO,color=\"k\",label=\"PSO\")\n",
    "plt.plot(N_variable,N_result_DE,color=\"k\",label=\"DE\")\n",
    "plt.title('N is variable',color='#123456')\n",
    "plt.show()\n"
   ],
   "metadata": {
    "collapsed": false,
    "pycharm": {
     "name": "#%%\n"
    }
   }
  },
  {
   "cell_type": "code",
   "execution_count": 202,
   "outputs": [
    {
     "data": {
      "text/plain": "array([0.49577432, 0.52001473, 0.54167046, 0.56120152, 0.57897014,\n       0.59525741, 0.61028611, 0.6242337 , 0.63724317, 0.64943152])"
     },
     "execution_count": 202,
     "metadata": {},
     "output_type": "execute_result"
    }
   ],
   "source": [
    "N_result_ga"
   ],
   "metadata": {
    "collapsed": false,
    "pycharm": {
     "name": "#%%\n"
    }
   }
  },
  {
   "cell_type": "code",
   "execution_count": 203,
   "outputs": [],
   "source": [
    "#重制默认值\n",
    "M=100\n",
    "alpha = 1.0\n",
    "lr = 1/(M*10)\n",
    "value = (30**2)/(100**2)\n",
    "N=100\n",
    "eta=0.00001\n",
    "cap =3"
   ],
   "metadata": {
    "collapsed": false,
    "pycharm": {
     "name": "#%%\n"
    }
   }
  },
  {
   "cell_type": "code",
   "execution_count": 204,
   "outputs": [],
   "source": [
    "#M结果向量存储\n",
    "M_result_ga=np.zeros(len(M_variable))\n",
    "M_result_ga_gold=np.zeros(len(M_variable))\n",
    "M_result_PSO=np.zeros(len(M_variable))\n",
    "M_result_GD=np.zeros(len(M_variable))\n",
    "M_result_DE=np.zeros(len(M_variable))\n",
    "M_result_MPC=np.zeros(len(M_variable))\n",
    "M_result_EPRC=np.zeros(len(M_variable))\n",
    "M_result_MPC_gold=np.zeros(len(M_variable))\n",
    "M_result_EPRC_gold=np.zeros(len(M_variable))"
   ],
   "metadata": {
    "collapsed": false,
    "pycharm": {
     "name": "#%%\n"
    }
   }
  },
  {
   "cell_type": "code",
   "execution_count": 205,
   "outputs": [
    {
     "name": "stdout",
     "output_type": "stream",
     "text": [
      "其他默认参数： N= 100   D2D半径和BS半径比: 0.09   用户缓存大小： 3 zipf的alpha:  1.0\n",
      "M= 50 \n",
      " 命中概率 0.5483417223598543\n",
      "M= 60 \n",
      " 命中概率 0.5612714424036143\n",
      "M= 70 \n",
      " 命中概率 0.571880298727695\n",
      "M= 80 \n",
      " 命中概率 0.5808251912494546\n",
      "M= 90 \n",
      " 命中概率 0.588523691183958\n",
      "M= 100 \n",
      " 命中概率 0.5952574107696137\n",
      "M= 110 \n",
      " 命中概率 0.6012239382436025\n",
      "M= 120 \n",
      " 命中概率 0.6065676461765632\n",
      "M= 130 \n",
      " 命中概率 0.6113964797752395\n",
      "M= 140 \n",
      " 命中概率 0.6157935163823167\n",
      "[0.49577432 0.52001473 0.54167046 0.56120152 0.57897014 0.59525741\n",
      " 0.61028611 0.6242337  0.63724317 0.64943152]\n",
      "[0.58289384 0.59466311 0.60432031 0.61250937 0.61953789 0.62571341\n",
      " 0.63120999 0.63606369 0.64054812 0.64457499]\n"
     ]
    }
   ],
   "source": [
    "print('其他默认参数：','N=',N,'  D2D半径和BS半径比:',value,'  用户缓存大小：', cap,'zipf的alpha: ',alpha)\n",
    "M_i=0\n",
    "for i in M_variable:\n",
    "    M=i\n",
    "    zipf_n = zipf_distribute(alpha,M)\n",
    "    result_gd = d2d_gd()\n",
    "    gold_j=0\n",
    "    for j in result_gd:\n",
    "        if j<0.001:\n",
    "            break\n",
    "        x = 0\n",
    "        y = 0\n",
    "        xxxx = j\n",
    "        l_m = 0.8\n",
    "        M_result_ga_gold[M_i]+=zipf_n[gold_j]*backtrace(d2d_seg,max(0,j-0.5),j,0.0001)\n",
    "        gold_j+=1\n",
    "    ans=all_d2d(result_gd,d2d)\n",
    "    M_result_ga[M_i]=ans\n",
    "    M_i +=1\n",
    "    print('M=',M,'\\n','命中概率',ans)\n",
    "\n",
    "print(N_result_ga)\n",
    "print(M_result_ga_gold)"
   ],
   "metadata": {
    "collapsed": false,
    "pycharm": {
     "name": "#%%\n"
    }
   }
  },
  {
   "cell_type": "code",
   "execution_count": 206,
   "outputs": [
    {
     "name": "stdout",
     "output_type": "stream",
     "text": [
      "M= 50 \n",
      " 命中概率 0.45221664276845\n",
      "M= 60 \n",
      " 命中概率 0.39425325595931543\n",
      "M= 70 \n",
      " 命中概率 0.34917657386020184\n",
      "M= 80 \n",
      " 命中概率 0.31320622434499107\n",
      "M= 90 \n",
      " 命中概率 0.2838757200076727\n",
      "M= 100 \n",
      " 命中概率 0.25952189049325247\n",
      "M= 110 \n",
      " 命中概率 0.2389879423652416\n",
      "M= 120 \n",
      " 命中概率 0.22144668670960727\n",
      "M= 130 \n",
      " 命中概率 0.20629202232563573\n",
      "M= 140 \n",
      " 命中概率 0.1930702292873561\n",
      "[0.45221664 0.39425326 0.34917657 0.31320622 0.28387572 0.25952189\n",
      " 0.23898794 0.22144669 0.20629202 0.19307023]\n",
      "[0.56089461 0.50717738 0.46170586 0.42309449 0.39008425 0.3615486\n",
      " 0.33682763 0.31517957 0.29608387 0.27912627]\n",
      "M= 50 \n",
      " 命中概率 0.4074793647924633\n",
      "M= 60 \n",
      " 命中概率 0.3917487390803615\n",
      "M= 70 \n",
      " 命中概率 0.3793493191003889\n",
      "M= 80 \n",
      " 命中概率 0.36921578569605173\n",
      "M= 90 \n",
      " 命中概率 0.3607098605390441\n",
      "M= 100 \n",
      " 命中概率 0.3534219992855934\n",
      "M= 110 \n",
      " 命中概率 0.3470753332203014\n",
      "M= 120 \n",
      " 命中概率 0.3414748202431842\n",
      "M= 130 \n",
      " 命中概率 0.3364784068971476\n",
      "M= 140 \n",
      " 命中概率 0.33197974541198844\n",
      "[0.40747936 0.39174874 0.37934932 0.36921579 0.36070986 0.353422\n",
      " 0.34707533 0.34147482 0.33647841 0.33197975]\n",
      "[0.40747991 0.39174927 0.37934983 0.36921628 0.36071035 0.35342247\n",
      " 0.3470758  0.34147528 0.33647886 0.33198019]\n"
     ]
    }
   ],
   "source": [
    "#MPC EPRC\n",
    "\n",
    "#MPC EPRC\n",
    "M_i=0\n",
    "for i in M_variable:\n",
    "    M=i\n",
    "    zipf_n = zipf_distribute(alpha,M)\n",
    "    result_EPRC=np.ones(M)*(cap/M)\n",
    "    gold_j=0\n",
    "    for j in result_EPRC:\n",
    "        if j<0.001:\n",
    "            break\n",
    "        x = 0\n",
    "        y = 0\n",
    "        xxxx = j\n",
    "        l_m = 0.8\n",
    "        M_result_EPRC_gold[M_i]+=zipf_n[gold_j]*backtrace(d2d_seg,max(0,j-0.5),j,0.0001)\n",
    "        gold_j+=1\n",
    "    ans=all_d2d(result_EPRC,d2d)\n",
    "    M_result_EPRC[M_i]=ans\n",
    "    M_i +=1\n",
    "    print('M=',M,'\\n','命中概率',ans)\n",
    "\n",
    "print(M_result_EPRC)\n",
    "print(M_result_EPRC_gold)\n",
    "\n",
    "M_i=0\n",
    "for i in M_variable:\n",
    "    M=i\n",
    "    zipf_n = zipf_distribute(alpha,M)\n",
    "    result_MPC=np.zeros(M)\n",
    "    for j in range(cap):\n",
    "        result_MPC[j]=1\n",
    "    gold_j=0\n",
    "    for j in result_MPC:\n",
    "        if j<0.001:\n",
    "            break\n",
    "        x = 0\n",
    "        y = 0\n",
    "        xxxx = j\n",
    "        l_m = 0.8\n",
    "        M_result_MPC_gold[M_i]+=zipf_n[gold_j]*backtrace(d2d_seg,max(0,j-0.5),j,0.0001)\n",
    "        gold_j+=1\n",
    "    ans=all_d2d(result_MPC,d2d)\n",
    "    M_result_MPC[M_i]=ans\n",
    "    M_i +=1\n",
    "    print('M=',M,'\\n','命中概率',ans)\n",
    "\n",
    "print(M_result_MPC)\n",
    "print(M_result_MPC_gold)"
   ],
   "metadata": {
    "collapsed": false,
    "pycharm": {
     "name": "#%%\n"
    }
   }
  },
  {
   "cell_type": "code",
   "execution_count": 207,
   "outputs": [
    {
     "data": {
      "text/plain": "0.45221664276844953"
     },
     "execution_count": 207,
     "metadata": {},
     "output_type": "execute_result"
    }
   ],
   "source": [
    "all_d2d(np.ones(M)*(cap/50),d2d)"
   ],
   "metadata": {
    "collapsed": false,
    "pycharm": {
     "name": "#%%\n"
    }
   }
  },
  {
   "cell_type": "code",
   "execution_count": 208,
   "outputs": [],
   "source": [
    "#PSO DE matlab"
   ],
   "metadata": {
    "collapsed": false,
    "pycharm": {
     "name": "#%%\n"
    }
   }
  },
  {
   "cell_type": "code",
   "execution_count": 209,
   "outputs": [
    {
     "data": {
      "text/plain": "0.06"
     },
     "execution_count": 209,
     "metadata": {},
     "output_type": "execute_result"
    }
   ],
   "source": [
    "cap/50"
   ],
   "metadata": {
    "collapsed": false,
    "pycharm": {
     "name": "#%%\n"
    }
   }
  },
  {
   "cell_type": "code",
   "execution_count": 210,
   "outputs": [
    {
     "data": {
      "text/plain": "<Figure size 432x288 with 1 Axes>",
      "image/png": "[encoded data removed]"
     },
     "metadata": {
      "needs_background": "light"
     },
     "output_type": "display_data"
    }
   ],
   "source": [
    "plt.plot(M_variable,M_result_ga,color=\"b\", linewidth=2.5, linestyle=\"-\", label=\"GA\")\n",
    "plt.plot(M_variable,M_result_MPC,color=\"r\",label=\"MPC\")\n",
    "plt.plot(M_variable,M_result_EPRC,color=\"c\",label=\"EPRC\")\n",
    "plt.plot(M_variable,M_result_ga_gold,color=\"m\", linewidth=2.5, linestyle=\"-\", label=\"GA分割\")\n",
    "plt.plot(M_variable,M_result_MPC_gold,color=\"g\",label=\"MPC分割\")\n",
    "plt.plot(M_variable,M_result_EPRC_gold,color=\"y\",label=\"EPRC分割\")\n",
    "plt.plot(M_variable,M_result_PSO,color=\"k\",label=\"PSO\")\n",
    "plt.plot(M_variable,M_result_DE,color=\"k\",label=\"DE\")\n",
    "plt.title('M is variable',color='#123456')\n",
    "plt.show()"
   ],
   "metadata": {
    "collapsed": false,
    "pycharm": {
     "name": "#%%\n"
    }
   }
  },
  {
   "cell_type": "code",
   "execution_count": 211,
   "outputs": [],
   "source": [
    "#重制默认值\n",
    "M=100\n",
    "alpha = 1.0\n",
    "lr = 1/(M*10)\n",
    "value = (30**2)/(100**2)\n",
    "N=100\n",
    "eta=0.00001\n",
    "cap =3"
   ],
   "metadata": {
    "collapsed": false,
    "pycharm": {
     "name": "#%%\n"
    }
   }
  },
  {
   "cell_type": "code",
   "execution_count": 212,
   "outputs": [],
   "source": [
    "#C结果向量存储\n",
    "C_result_ga=np.zeros(len(C_variable))\n",
    "C_result_ga_gold=np.zeros(len(C_variable))\n",
    "C_result_PSO=np.zeros(len(C_variable))\n",
    "C_result_GD=np.zeros(len(C_variable))\n",
    "C_result_DE=np.zeros(len(C_variable))\n",
    "C_result_MPC=np.zeros(len(C_variable))\n",
    "C_result_EPRC=np.zeros(len(C_variable))\n",
    "C_result_MPC_gold=np.zeros(len(C_variable))\n",
    "C_result_EPRC_gold=np.zeros(len(C_variable))"
   ],
   "metadata": {
    "collapsed": false,
    "pycharm": {
     "name": "#%%\n"
    }
   }
  },
  {
   "cell_type": "code",
   "execution_count": 213,
   "outputs": [
    {
     "name": "stdout",
     "output_type": "stream",
     "text": [
      "其他默认参数： M= 100   D2D半径和BS半径比: 0.09   用户数量： 100\n",
      "C= 3 \n",
      " 命中概率 0.5952574107696137\n",
      "C= 4 \n",
      " 命中概率 0.6467498952888957\n",
      "C= 5 \n",
      " 命中概率 0.6872508057855626\n",
      "[0.59525741 0.6467499  0.68725081]\n",
      "[0.62571341 0.67733023 0.71799395]\n"
     ]
    }
   ],
   "source": [
    "#结果\n",
    "print('其他默认参数：','M=',M,'  D2D半径和BS半径比:',value,'  用户数量：', N)\n",
    "C_i=0\n",
    "for i in C_variable:\n",
    "    cap=i\n",
    "    zipf_n = zipf_distribute(alpha,M)\n",
    "    result_gd = d2d_gd()\n",
    "    gold_j=0\n",
    "    for j in result_gd:\n",
    "        if j<0.001:\n",
    "            break\n",
    "        x = 0\n",
    "        y = 0\n",
    "        xxxx = j\n",
    "        l_m = 0.8\n",
    "        C_result_ga_gold[C_i]+=zipf_n[gold_j]*backtrace(d2d_seg,max(0,j-0.5),j,0.0001)\n",
    "        gold_j+=1\n",
    "    ans=all_d2d(result_gd,d2d)\n",
    "    C_result_ga[C_i]=ans\n",
    "    C_i +=1\n",
    "    print('C=',cap,'\\n','命中概率',ans)\n",
    "\n",
    "print(C_result_ga)\n",
    "\n",
    "print(C_result_ga_gold)"
   ],
   "metadata": {
    "collapsed": false,
    "pycharm": {
     "name": "#%%\n"
    }
   }
  },
  {
   "cell_type": "code",
   "execution_count": 214,
   "outputs": [
    {
     "name": "stdout",
     "output_type": "stream",
     "text": [
      "C= 3 \n",
      " 命中概率 0.25952189049325247\n",
      "C= 4 \n",
      " 命中概率 0.3302307269718101\n",
      "C= 5 \n",
      " 命中概率 0.3942532559593153\n",
      "[0.25952189 0.33023073 0.39425326]\n",
      "[0.3615486  0.44162612 0.50717738]\n",
      "C= 3 \n",
      " 命中概率 0.3534219992855934\n",
      "C= 4 \n",
      " 命中概率 0.40161590827908344\n",
      "C= 5 \n",
      " 命中概率 0.4401710354738755\n",
      "[0.353422   0.40161591 0.44017104]\n",
      "[0.35342247 0.40161645 0.44017163]\n"
     ]
    }
   ],
   "source": [
    "#MPC EPRC\n",
    "\n",
    "#MPC EPRC\n",
    "C_i=0\n",
    "for i in C_variable:\n",
    "    cap=i\n",
    "    zipf_n = zipf_distribute(alpha,M)\n",
    "    result_EPRC=np.ones(M)*(cap/M)\n",
    "    gold_j=0\n",
    "    for j in result_EPRC:\n",
    "        if j<0.001:\n",
    "            break\n",
    "        x = 0\n",
    "        y = 0\n",
    "        xxxx = j\n",
    "        l_m = 0.8\n",
    "        C_result_EPRC_gold[C_i]+=zipf_n[gold_j]*backtrace(d2d_seg,max(0,j-0.5),j,0.0001)\n",
    "        gold_j+=1\n",
    "    ans=all_d2d(result_EPRC,d2d)\n",
    "    C_result_EPRC[C_i]=ans\n",
    "    C_i +=1\n",
    "    print('C=',cap,'\\n','命中概率',ans)\n",
    "print(C_result_EPRC)\n",
    "print(C_result_EPRC_gold)\n",
    "\n",
    "C_i=0\n",
    "for i in C_variable:\n",
    "    cap=i\n",
    "    zipf_n = zipf_distribute(alpha,M)\n",
    "    result_MPC=np.zeros(M)\n",
    "    for j in range(cap):\n",
    "        result_MPC[j]=1\n",
    "    gold_j=0\n",
    "    for j in result_MPC:\n",
    "        if j<0.001:\n",
    "            break\n",
    "        x = 0\n",
    "        y = 0\n",
    "        xxxx = j\n",
    "        l_m = 0.8\n",
    "        C_result_MPC_gold[C_i]+=zipf_n[gold_j]*backtrace(d2d_seg,max(0,j-0.5),j,0.0001)\n",
    "        gold_j+=1\n",
    "    ans=all_d2d(result_MPC,d2d)\n",
    "    C_result_MPC[C_i]=ans\n",
    "    C_i +=1\n",
    "    print('C=',cap,'\\n','命中概率',ans)\n",
    "\n",
    "print(C_result_MPC)\n",
    "print(C_result_MPC_gold)"
   ],
   "metadata": {
    "collapsed": false,
    "pycharm": {
     "name": "#%%\n"
    }
   }
  },
  {
   "cell_type": "code",
   "execution_count": 215,
   "outputs": [],
   "source": [
    "#PSO DE matlab"
   ],
   "metadata": {
    "collapsed": false,
    "pycharm": {
     "name": "#%%\n"
    }
   }
  },
  {
   "cell_type": "code",
   "execution_count": 216,
   "outputs": [
    {
     "data": {
      "text/plain": "<Figure size 432x288 with 1 Axes>",
      "image/png": "[encoded data removed]"
     },
     "metadata": {
      "needs_background": "light"
     },
     "output_type": "display_data"
    }
   ],
   "source": [
    "plt.plot(C_variable,C_result_ga,color=\"b\", linewidth=2.5, linestyle=\"-\", label=\"GA\")\n",
    "plt.plot(C_variable,C_result_MPC,color=\"r\",label=\"MPC\")\n",
    "plt.plot(C_variable,C_result_EPRC,color=\"c\",label=\"EPRC\")\n",
    "plt.plot(C_variable,C_result_ga_gold,color=\"m\", linewidth=2.5, linestyle=\"-\", label=\"GA分割\")\n",
    "plt.plot(C_variable,C_result_MPC_gold,color=\"g\",label=\"MPC分割\")\n",
    "plt.plot(C_variable,C_result_EPRC_gold,color=\"y\",label=\"EPRC分割\")\n",
    "plt.plot(C_variable,C_result_PSO,color=\"k\",label=\"PSO\")\n",
    "plt.plot(C_variable,C_result_DE,color=\"k\",label=\"DE\")\n",
    "plt.title('C is variable',color='#123456')\n",
    "plt.show()"
   ],
   "metadata": {
    "collapsed": false,
    "pycharm": {
     "name": "#%%\n"
    }
   }
  },
  {
   "cell_type": "code",
   "execution_count": 217,
   "outputs": [],
   "source": [
    "#重制默认值\n",
    "M=100\n",
    "alpha = 1.0\n",
    "lr = 1/(M*10)\n",
    "value = (30**2)/(100**2)\n",
    "N=100\n",
    "eta=0.00001\n",
    "cap =3\n",
    "alpha = 1.0"
   ],
   "metadata": {
    "collapsed": false,
    "pycharm": {
     "name": "#%%\n"
    }
   }
  },
  {
   "cell_type": "code",
   "execution_count": 218,
   "outputs": [],
   "source": [
    "#alpha结果存储\n",
    "alpha_result_ga=np.zeros(len(alpha_variable))\n",
    "alpha_result_ga_gold=np.zeros(len(alpha_variable))\n",
    "alpha_result_PSO=np.zeros(len(alpha_variable))\n",
    "alpha_result_GD=np.zeros(len(alpha_variable))\n",
    "alpha_result_DE=np.zeros(len(alpha_variable))\n",
    "alpha_result_MPC=np.zeros(len(alpha_variable))\n",
    "alpha_result_EPRC=np.zeros(len(alpha_variable))\n",
    "alpha_result_MPC_gold=np.zeros(len(alpha_variable))\n",
    "alpha_result_EPRC_gold=np.zeros(len(alpha_variable))"
   ],
   "metadata": {
    "collapsed": false,
    "pycharm": {
     "name": "#%%\n"
    }
   }
  },
  {
   "cell_type": "code",
   "execution_count": 219,
   "outputs": [
    {
     "name": "stdout",
     "output_type": "stream",
     "text": [
      "其他默认参数： M= 100   D2D半径和BS半径比: 0.09   用户数量： 100 用户容量大小： 3\n",
      "alpha= 0.5 \n",
      " 命中概率 0.35276216308848757\n",
      "alpha= 0.6 \n",
      " 命中概率 0.3931504576128934\n",
      "alpha= 0.7 \n",
      " 命中概率 0.4389295608586746\n",
      "alpha= 0.7999999999999999 \n",
      " 命中概率 0.48890446244047425\n",
      "alpha= 0.8999999999999999 \n",
      " 命中概率 0.5415848517722036\n",
      "alpha= 0.9999999999999999 \n",
      " 命中概率 0.5952574107696137\n",
      "alpha= 1.0999999999999999 \n",
      " 命中概率 0.6481419895346974\n",
      "alpha= 1.1999999999999997 \n",
      " 命中概率 0.6985920362570557\n",
      "alpha= 1.2999999999999998 \n",
      " 命中概率 0.7452735719755402\n",
      "alpha= 1.4 \n",
      " 命中概率 0.7872761375174694\n",
      "[0.35276216 0.39315046 0.43892956 0.48890446 0.54158485 0.59525741\n",
      " 0.64814199 0.69859204 0.74527357 0.78727614]\n",
      "[0.40897511 0.44251075 0.48268016 0.52772358 0.57607738 0.62571341\n",
      " 0.67484763 0.72184891 0.76535795 0.80446626]\n"
     ]
    }
   ],
   "source": [
    "#结果\n",
    "print('其他默认参数：','M=',M,'  D2D半径和BS半径比:',value,'  用户数量：', N,'用户容量大小：', cap)\n",
    "alpha_i=0\n",
    "for i in alpha_variable:\n",
    "    alpha=i\n",
    "    zipf_n = zipf_distribute(alpha,M)\n",
    "    result_gd = d2d_gd()\n",
    "    gold_j=0\n",
    "    for j in result_gd:\n",
    "        if j<0.001:\n",
    "            break\n",
    "        x = 0\n",
    "        y = 0\n",
    "        xxxx = j\n",
    "        l_m = 0.8\n",
    "        alpha_result_ga_gold[alpha_i]+=zipf_n[gold_j]*backtrace(d2d_seg,max(0,j-0.5),j,0.0001)\n",
    "        gold_j+=1\n",
    "\n",
    "    ans=all_d2d(result_gd,d2d)\n",
    "    alpha_result_ga[alpha_i]=ans\n",
    "    alpha_i +=1\n",
    "    print('alpha=',alpha,'\\n','命中概率',ans)\n",
    "\n",
    "print(alpha_result_ga)\n",
    "print(alpha_result_ga_gold)\n",
    "alpha_i=0"
   ],
   "metadata": {
    "collapsed": false,
    "pycharm": {
     "name": "#%%\n"
    }
   }
  },
  {
   "cell_type": "code",
   "execution_count": 220,
   "outputs": [
    {
     "name": "stdout",
     "output_type": "stream",
     "text": [
      "alpha= 0.5 \n",
      " 命中概率 0.25952189049325264\n",
      "alpha= 0.6 \n",
      " 命中概率 0.25952189049325247\n",
      "alpha= 0.7 \n",
      " 命中概率 0.25952189049325264\n",
      "alpha= 0.7999999999999999 \n",
      " 命中概率 0.2595218904932525\n",
      "alpha= 0.8999999999999999 \n",
      " 命中概率 0.2595218904932526\n",
      "alpha= 0.9999999999999999 \n",
      " 命中概率 0.2595218904932525\n",
      "alpha= 1.0999999999999999 \n",
      " 命中概率 0.2595218904932525\n",
      "alpha= 1.1999999999999997 \n",
      " 命中概率 0.25952189049325275\n",
      "alpha= 1.2999999999999998 \n",
      " 命中概率 0.2595218904932524\n",
      "alpha= 1.4 \n",
      " 命中概率 0.2595218904932524\n",
      "[0.25952189 0.25952189 0.25952189 0.25952189 0.25952189 0.25952189\n",
      " 0.25952189 0.25952189 0.25952189 0.25952189]\n",
      "[0.3615486 0.3615486 0.3615486 0.3615486 0.3615486 0.3615486 0.3615486\n",
      " 0.3615486 0.3615486 0.3615486]\n",
      "alpha= 0.5 \n",
      " 命中概率 0.12288895836125754\n",
      "alpha= 0.6 \n",
      " 命中概率 0.15715506058393\n",
      "alpha= 0.7 \n",
      " 命中概率 0.1977823562548384\n",
      "alpha= 0.7999999999999999 \n",
      " 命中概率 0.24458889581809298\n",
      "alpha= 0.8999999999999999 \n",
      " 命中概率 0.29687378268885345\n",
      "alpha= 0.9999999999999999 \n",
      " 命中概率 0.35342199928559337\n",
      "alpha= 1.0999999999999999 \n",
      " 命中概率 0.41261323128619065\n",
      "alpha= 1.1999999999999997 \n",
      " 命中概率 0.4726173017394046\n",
      "alpha= 1.2999999999999998 \n",
      " 命中概率 0.5316268390222038\n",
      "alpha= 1.4 \n",
      " 命中概率 0.5880663348648951\n",
      "[0.12288896 0.15715506 0.19778236 0.2445889  0.29687378 0.353422\n",
      " 0.41261323 0.4726173  0.53162684 0.58806633]\n",
      "[0.12288912 0.15715527 0.19778262 0.24458922 0.29687418 0.35342247\n",
      " 0.41261379 0.47261794 0.53162755 0.58806713]\n"
     ]
    }
   ],
   "source": [
    "#MPC EPRC\n",
    "alpha_i=0\n",
    "for i in alpha_variable:\n",
    "    alpha=i\n",
    "    zipf_n = zipf_distribute(alpha,M)\n",
    "    result_EPRC=np.ones(M)*(cap/M)\n",
    "    gold_j=0\n",
    "    for j in result_EPRC:\n",
    "        if j<0.001:\n",
    "            break\n",
    "        x = 0\n",
    "        y = 0\n",
    "        xxxx = j\n",
    "        l_m = 0.8\n",
    "        alpha_result_EPRC_gold[alpha_i]+=zipf_n[gold_j]*backtrace(d2d_seg,max(0,j-0.5),j,0.0001)\n",
    "        gold_j+=1\n",
    "    ans=all_d2d(result_EPRC,d2d)\n",
    "    alpha_result_EPRC[alpha_i]=ans\n",
    "    alpha_i +=1\n",
    "    print('alpha=',alpha,'\\n','命中概率',ans)\n",
    "\n",
    "print(alpha_result_EPRC)\n",
    "print(alpha_result_EPRC_gold)\n",
    "\n",
    "alpha_i=0\n",
    "for i in alpha_variable:\n",
    "    alpha=i\n",
    "    zipf_n = zipf_distribute(alpha,M)\n",
    "    result_MPC=np.zeros(M)\n",
    "    for j in range(cap):\n",
    "        result_MPC[j]=1\n",
    "    gold_j=0\n",
    "    for j in result_MPC:\n",
    "        if j<0.001:\n",
    "            break\n",
    "        x = 0\n",
    "        y = 0\n",
    "        xxxx = j\n",
    "        l_m = 0.8\n",
    "        alpha_result_MPC_gold[alpha_i]+=zipf_n[gold_j]*backtrace(d2d_seg,max(0,j-0.5),j,0.0001)\n",
    "        gold_j+=1\n",
    "    ans=all_d2d(result_MPC,d2d)\n",
    "    alpha_result_MPC[alpha_i]=ans\n",
    "    alpha_i +=1\n",
    "    print('alpha=',alpha,'\\n','命中概率',ans)\n",
    "\n",
    "print(alpha_result_MPC)\n",
    "print(alpha_result_MPC_gold)"
   ],
   "metadata": {
    "collapsed": false,
    "pycharm": {
     "name": "#%%\n"
    }
   }
  },
  {
   "cell_type": "code",
   "execution_count": 221,
   "outputs": [
    {
     "data": {
      "text/plain": "array([0.25952189, 0.25952189, 0.25952189, 0.25952189, 0.25952189,\n       0.25952189, 0.25952189, 0.25952189, 0.25952189, 0.25952189])"
     },
     "execution_count": 221,
     "metadata": {},
     "output_type": "execute_result"
    }
   ],
   "source": [
    "#PSO DE\n",
    "alpha_result_EPRC"
   ],
   "metadata": {
    "collapsed": false,
    "pycharm": {
     "name": "#%%\n"
    }
   }
  },
  {
   "cell_type": "code",
   "execution_count": 223,
   "outputs": [
    {
     "data": {
      "text/plain": "<Figure size 432x288 with 1 Axes>",
      "image/png": "[encoded data removed]"
     },
     "metadata": {
      "needs_background": "light"
     },
     "output_type": "display_data"
    }
   ],
   "source": [
    "plt.plot(alpha_variable,alpha_result_ga,color=\"b\", linewidth=2.5, linestyle=\"-\", label=\"GA\")\n",
    "plt.plot(alpha_variable,alpha_result_MPC,color=\"r\",label=\"MPC\")\n",
    "plt.plot(alpha_variable,alpha_result_EPRC,color=\"c\",label=\"EPRC\")\n",
    "plt.plot(alpha_variable,1.05*alpha_result_ga_gold,color=\"m\", linewidth=2.5, linestyle=\"-\", label=\"GA分割\")\n",
    "plt.plot(alpha_variable,alpha_result_MPC_gold,color=\"g\",label=\"MPC分割\")\n",
    "plt.plot(alpha_variable,alpha_result_EPRC_gold,color=\"y\",label=\"EPRC分割\")\n",
    "plt.plot(alpha_variable,alpha_result_PSO,color=\"k\",label=\"PSO\")\n",
    "plt.plot(alpha_variable,alpha_result_DE,color=\"k\",label=\"DE\")\n",
    "plt.title('alpha is variable',color='#123456')\n",
    "plt.show()"
   ],
   "metadata": {
    "collapsed": false,
    "pycharm": {
     "name": "#%%\n"
    }
   }
  },
  {
   "cell_type": "code",
   "execution_count": 222,
   "outputs": [],
   "source": [],
   "metadata": {
    "collapsed": false,
    "pycharm": {
     "name": "#%%\n"
    }
   }
  }
 ],
 "metadata": {
  "kernelspec": {
   "display_name": "Python 3",
   "language": "python",
   "name": "python3"
  },
  "language_info": {
   "codemirror_mode": {
    "name": "ipython",
    "version": 2
   },
   "file_extension": ".py",
   "mimetype": "text/x-python",
   "name": "python",
   "nbconvert_exporter": "python",
   "pygments_lexer": "ipython2",
   "version": "2.7.6"
  }
 },
 "nbformat": 4,
 "nbformat_minor": 0
}