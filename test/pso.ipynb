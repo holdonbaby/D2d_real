{
 "cells": [
  {
   "cell_type": "code",
   "execution_count": 2,
   "metadata": {
    "collapsed": true
   },
   "outputs": [],
   "source": [
    "import numpy as np"
   ]
  },
  {
   "cell_type": "code",
   "execution_count": 29,
   "outputs": [],
   "source": [
    "value = (30**2)/(100**2)\n",
    "N=100\n",
    "eta=0.00001\n",
    "cap =3\n",
    "\n",
    "def d2d(a,x):\n",
    "    return a-a*np.exp(-1.0*value* N * x)+a*x*np.exp(-1.0*value* N * x)\n",
    "\n",
    "def zipf_distribute(alpha, file_number):\n",
    "    ans = [0 for i in range(file_number)]\n",
    "    sum = 0\n",
    "    for i in range(1, file_number + 1):\n",
    "        sum += 1 / pow(i, alpha)\n",
    "    for i in range(1, file_number + 1):\n",
    "        ans[i - 1] = (1 / pow(i, alpha)) / sum\n",
    "    return ans\n",
    "\n",
    "def all_d2d(results,f_func):\n",
    "    ans=0\n",
    "    for i in range(len(results)):\n",
    "\n",
    "        ans+=f_func(zipf_n[i],results[i])\n",
    "    return ans\n",
    "\n",
    "def d2d_grad(a,x):\n",
    "    return value*N*a*np.exp(-1.0*value* N * x)-a*x*value*np.exp(-1.0* N *value* x)+a*np.exp(-1.0*value* N * x)\n",
    "\n",
    "\n",
    "def gd_d2d(results,f_grad):\n",
    "    ans = np.copy(results)\n",
    "    for i in range(len(results)):\n",
    "        if ans[i]>=1:\n",
    "            continue\n",
    "        ans[i]=ans[i]+eta*f_grad(zipf_n[i],ans[i])\n",
    "    return ans\n",
    "\n",
    "def train_d2d(trainer,step=100,f_grad=None):\n",
    "    results=np.zeros(M)\n",
    "    for i in range(step):\n",
    "        if results.sum()>cap:\n",
    "            break\n",
    "        results=np.copy(trainer(results,f_grad))\n",
    "    return results"
   ],
   "metadata": {
    "collapsed": false,
    "pycharm": {
     "name": "#%%\n"
    }
   }
  },
  {
   "cell_type": "code",
   "execution_count": 20,
   "outputs": [],
   "source": [
    "dim = 100\n",
    "M=dim\n",
    "c1 = 1.4\n",
    "c2 = 1.4\n",
    "max_gen = 500\n",
    "size_pop =1000\n",
    "V_max = 0.001\n",
    "V_min = -0.001\n",
    "pop_max = 1\n",
    "pop_min = 0\n",
    "w = 0.8\n",
    "record = np.zeros(max_gen)\n",
    "alpha = 1.5\n",
    "zipf_n = zipf_distribute(alpha,dim)"
   ],
   "metadata": {
    "collapsed": false,
    "pycharm": {
     "name": "#%%\n"
    }
   }
  },
  {
   "cell_type": "code",
   "execution_count": 26,
   "outputs": [],
   "source": [
    "lr = 1/(M*10)\n",
    "\n",
    "def d2d_gd(capacity):\n",
    "    k = capacity*M*10\n",
    "    results = np.zeros(M)\n",
    "    for i in range(k):\n",
    "        max=0\n",
    "        index=0\n",
    "        for j in range(len(results)):\n",
    "            if d2d(zipf_n[j],results[j]+lr)-d2d(zipf_n[j],results[j])>max:\n",
    "                max =d2d(zipf_n[j],results[j]+lr)-d2d(zipf_n[j],results[j])\n",
    "                index=j\n",
    "\n",
    "\n",
    "        results[index]+=lr\n",
    "    return results\n",
    "\n",
    "result_gd = d2d_gd(3)"
   ],
   "metadata": {
    "collapsed": false,
    "pycharm": {
     "name": "#%%\n"
    }
   }
  },
  {
   "cell_type": "code",
   "execution_count": 30,
   "outputs": [],
   "source": [
    "result = train_d2d(gd_d2d,100000,d2d_grad)"
   ],
   "metadata": {
    "collapsed": false,
    "pycharm": {
     "name": "#%%\n"
    }
   }
  },
  {
   "cell_type": "code",
   "execution_count": 32,
   "outputs": [
    {
     "data": {
      "text/plain": "3.0000086199707203"
     },
     "execution_count": 32,
     "metadata": {},
     "output_type": "execute_result"
    }
   ],
   "source": [
    "result.sum()"
   ],
   "metadata": {
    "collapsed": false,
    "pycharm": {
     "name": "#%%\n"
    }
   }
  },
  {
   "cell_type": "code",
   "execution_count": null,
   "outputs": [],
   "source": [
    "0.8241396151213398  #贪心放置\n",
    "0.7937300235089196  #梯度下降\n",
    "0.51114             #粒子群"
   ],
   "metadata": {
    "collapsed": false,
    "pycharm": {
     "name": "#%%\n"
    }
   }
  }
 ],
 "metadata": {
  "kernelspec": {
   "display_name": "Python 3",
   "language": "python",
   "name": "python3"
  },
  "language_info": {
   "codemirror_mode": {
    "name": "ipython",
    "version": 2
   },
   "file_extension": ".py",
   "mimetype": "text/x-python",
   "name": "python",
   "nbconvert_exporter": "python",
   "pygments_lexer": "ipython2",
   "version": "2.7.6"
  }
 },
 "nbformat": 4,
 "nbformat_minor": 0
}