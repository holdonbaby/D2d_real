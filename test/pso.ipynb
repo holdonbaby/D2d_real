{
 "cells": [
  {
   "cell_type": "code",
   "execution_count": 28,
   "metadata": {
    "collapsed": true
   },
   "outputs": [],
   "source": [
    "import numpy as np\n",
    "import matplotlib.pyplot as plt"
   ]
  },
  {
   "cell_type": "code",
   "execution_count": 1,
   "outputs": [],
   "source": [
    "def d2d(a,x):\n",
    "    return a-a*np.exp(-1.0*value* N * x)+a*x*np.exp(-1.0*value* N * x)\n",
    "\n",
    "def zipf_distribute(alpha, file_number):\n",
    "    ans = [0 for i in range(file_number)]\n",
    "    sum = 0\n",
    "    for i in range(1, file_number + 1):\n",
    "        sum += 1 / pow(i, alpha)\n",
    "    for i in range(1, file_number + 1):\n",
    "        ans[i - 1] = (1 / pow(i, alpha)) / sum\n",
    "    return ans\n",
    "\n",
    "def all_d2d(results,f_func):\n",
    "    ans=0\n",
    "    for i in range(len(results)):\n",
    "\n",
    "        ans+=f_func(zipf_n[i],results[i])\n",
    "    return ans\n",
    "\n",
    "def d2d_grad(a,x):\n",
    "    return value*N*a*np.exp(-1.0*value* N * x)-a*x*value*np.exp(-1.0* N *value* x)+a*np.exp(-1.0*value* N * x)\n",
    "\n",
    "\n",
    "def gd_d2d(results,f_grad):\n",
    "    ans = np.copy(results)\n",
    "    for i in range(len(results)):\n",
    "        if ans[i]>=1:\n",
    "            continue\n",
    "        ans[i]=ans[i]+eta*f_grad(zipf_n[i],ans[i])\n",
    "    return ans\n",
    "\n",
    "def train_d2d(trainer,step=100,f_grad=None):\n",
    "    results=np.zeros(M)\n",
    "    for i in range(step):\n",
    "        if results.sum()>cap:\n",
    "            break\n",
    "        results=np.copy(trainer(results,f_grad))\n",
    "    return results"
   ],
   "metadata": {
    "collapsed": false,
    "pycharm": {
     "name": "#%%\n"
    }
   }
  },
  {
   "cell_type": "code",
   "execution_count": 40,
   "outputs": [],
   "source": [
    "def d2d_gd():\n",
    "    k = cap*M*10\n",
    "    results = np.zeros(M)\n",
    "    for i in range(k):\n",
    "        max=0\n",
    "        index=0\n",
    "        for j in range(len(results)):\n",
    "            if d2d(zipf_n[j],results[j]+lr)-d2d(zipf_n[j],results[j])>max:\n",
    "                max =d2d(zipf_n[j],results[j]+lr)-d2d(zipf_n[j],results[j])\n",
    "                index=j\n",
    "\n",
    "\n",
    "        results[index]+=lr\n",
    "    return results"
   ],
   "metadata": {
    "collapsed": false,
    "pycharm": {
     "name": "#%%\n"
    }
   }
  },
  {
   "cell_type": "code",
   "execution_count": 30,
   "outputs": [],
   "source": [
    "result = train_d2d(gd_d2d,100000,d2d_grad)"
   ],
   "metadata": {
    "collapsed": false,
    "pycharm": {
     "name": "#%%\n"
    }
   }
  },
  {
   "cell_type": "code",
   "execution_count": 9,
   "outputs": [
    {
     "data": {
      "text/plain": "0.51114"
     },
     "execution_count": 9,
     "metadata": {},
     "output_type": "execute_result"
    }
   ],
   "source": [
    "0.8241396151213398  #贪心放置\n",
    "0.7937300235089196  #梯度下降\n",
    "0.51114             #粒子群"
   ],
   "metadata": {
    "collapsed": false,
    "pycharm": {
     "name": "#%%\n"
    }
   }
  },
  {
   "cell_type": "code",
   "execution_count": 56,
   "outputs": [],
   "source": [
    "#所有的变量 N,M,alpha,lm\n",
    "N_variable = np.arange(50,150,10)\n",
    "M_variable = np.arange(50,150,10)\n",
    "alpha_variable = np.arange(0.5,1.5,0.1)\n",
    "lm_variable = np.arange(0.6,0.9,0.05)\n",
    "C_variable = np.arange(3,6,1)"
   ],
   "metadata": {
    "collapsed": false,
    "pycharm": {
     "name": "#%%\n"
    }
   }
  },
  {
   "cell_type": "code",
   "execution_count": 19,
   "outputs": [],
   "source": [
    "dim = 100\n",
    "M=dim\n",
    "c1 = 1.4\n",
    "c2 = 1.4\n",
    "max_gen = 500\n",
    "size_pop =1000\n",
    "V_max = 0.001\n",
    "V_min = -0.001\n",
    "pop_max = 1\n",
    "pop_min = 0\n",
    "w = 0.8\n",
    "record = np.zeros(max_gen)\n",
    "alpha = 1.5\n",
    "zipf_n = zipf_distribute(alpha,dim)\n",
    "lr = 1/(M*10)\n",
    "value = (30**2)/(100**2)\n",
    "N=100\n",
    "eta=0.00001\n",
    "cap =3"
   ],
   "metadata": {
    "collapsed": false,
    "pycharm": {
     "name": "#%%\n"
    }
   }
  },
  {
   "cell_type": "code",
   "execution_count": 23,
   "outputs": [],
   "source": [
    "#N结果向量存储\n",
    "N_result_ga=np.zeros(len(N_variable))\n",
    "N_result_PSO=np.zeros(len(N_variable))\n",
    "N_result_GD=np.zeros(len(N_variable))\n",
    "N_result_DE=np.zeros(len(N_variable))\n",
    "N_result_MPC=np.zeros(len(N_variable))\n",
    "N_result_EPRC=np.zeros(len(N_variable))"
   ],
   "metadata": {
    "collapsed": false,
    "pycharm": {
     "name": "#%%\n"
    }
   }
  },
  {
   "cell_type": "code",
   "execution_count": 45,
   "outputs": [
    {
     "name": "stdout",
     "output_type": "stream",
     "text": [
      "其他默认参数： M= 110   D2D半径和BS半径比: 0.09   用户缓存大小： 3\n",
      "N= 50 \n",
      " 命中概率 0.7629375857221877\n",
      "N= 60 \n",
      " 命中概率 0.7809853868709197\n",
      "N= 70 \n",
      " 命中概率 0.7964538483933448\n",
      "N= 80 \n",
      " 命中概率 0.8098356047713982\n",
      "N= 90 \n",
      " 命中概率 0.8215300118658049\n",
      "N= 100 \n",
      " 命中概率 0.8318487450064445\n",
      "N= 110 \n",
      " 命中概率 0.841033636689749\n",
      "N= 120 \n",
      " 命中概率 0.8492733624760863\n",
      "N= 130 \n",
      " 命中概率 0.8567169432224607\n",
      "N= 140 \n",
      " 命中概率 0.8634832534239371\n",
      "[0.76293759 0.78098539 0.79645385 0.8098356  0.82153001 0.83184875\n",
      " 0.84103364 0.84927336 0.85671694 0.86348325]\n"
     ]
    }
   ],
   "source": [
    "#结果\n",
    "print('其他默认参数：','M=',M,'  D2D半径和BS半径比:',value,'  用户缓存大小：', cap)\n",
    "N_i=0\n",
    "for i in N_variable:\n",
    "    N=i\n",
    "    zipf_n = zipf_distribute(alpha,M)\n",
    "    result_gd = d2d_gd()\n",
    "    ans=all_d2d(result_gd,d2d)\n",
    "    N_result_ga[N_i]=ans\n",
    "    N_i +=1\n",
    "    print('N=',N,'\\n','命中概率',ans)\n",
    "\n",
    "print(N_result_ga)\n",
    "N_i=0"
   ],
   "metadata": {
    "collapsed": false,
    "pycharm": {
     "name": "#%%\n"
    }
   }
  },
  {
   "cell_type": "code",
   "execution_count": 50,
   "outputs": [
    {
     "name": "stdout",
     "output_type": "stream",
     "text": [
      "N= 50 \n",
      " 命中概率 0.11138398704328573\n",
      "N= 60 \n",
      " 命中概率 0.12835738345660808\n",
      "N= 70 \n",
      " 命中概率 0.14500657213385199\n",
      "N= 80 \n",
      " 命中概率 0.16133774574580473\n",
      "N= 90 \n",
      " 命中概率 0.1773569786774539\n",
      "N= 100 \n",
      " 命中概率 0.19307022928735598\n",
      "N= 110 \n",
      " 命中概率 0.20848334212384956\n",
      "N= 120 \n",
      " 命中概率 0.22360205009893816\n",
      "N= 130 \n",
      " 命中概率 0.23843197662064664\n",
      "N= 140 \n",
      " 命中概率 0.2529786376846505\n",
      "N= 50 \n",
      " 命中概率 0.6326626717380046\n",
      "N= 60 \n",
      " 命中概率 0.6326626717380046\n",
      "N= 70 \n",
      " 命中概率 0.6326626717380046\n",
      "N= 80 \n",
      " 命中概率 0.6326626717380046\n",
      "N= 90 \n",
      " 命中概率 0.6326626717380046\n",
      "N= 100 \n",
      " 命中概率 0.6326626717380046\n",
      "N= 110 \n",
      " 命中概率 0.6326626717380046\n",
      "N= 120 \n",
      " 命中概率 0.6326626717380046\n",
      "N= 130 \n",
      " 命中概率 0.6326626717380046\n",
      "N= 140 \n",
      " 命中概率 0.6326626717380046\n"
     ]
    }
   ],
   "source": [
    "#MPC EPRC\n",
    "N_i=0\n",
    "for i in N_variable:\n",
    "    N=i\n",
    "    result_EPRC=np.ones(M)*(cap/M)\n",
    "    ans=all_d2d(result_EPRC,d2d)\n",
    "    N_result_EPRC[N_i]=ans\n",
    "    N_i +=1\n",
    "    print('N=',N,'\\n','命中概率',ans)\n",
    "\n",
    "N_i=0\n",
    "for i in N_variable:\n",
    "    N=i\n",
    "    result_MPC=np.zeros(M)\n",
    "    for j in range(cap):\n",
    "        result_MPC[j]=1\n",
    "    ans=all_d2d(result_MPC,d2d)\n",
    "    N_result_MPC[N_i]=ans\n",
    "    N_i +=1\n",
    "    print('N=',N,'\\n','命中概率',ans)"
   ],
   "metadata": {
    "collapsed": false,
    "pycharm": {
     "name": "#%%\n"
    }
   }
  },
  {
   "cell_type": "code",
   "execution_count": null,
   "outputs": [],
   "source": [
    "#PSO\n",
    "#DE\n",
    "#matlab出来"
   ],
   "metadata": {
    "collapsed": false,
    "pycharm": {
     "name": "#%%\n"
    }
   }
  },
  {
   "cell_type": "code",
   "execution_count": 51,
   "outputs": [
    {
     "data": {
      "text/plain": "<Figure size 432x288 with 1 Axes>",
      "image/png": "[encoded data removed]"
     },
     "metadata": {
      "needs_background": "light"
     },
     "output_type": "display_data"
    }
   ],
   "source": [
    "plt.plot(N_variable,N_result_ga)\n",
    "plt.plot(N_variable,N_result_MPC)\n",
    "plt.plot(N_variable,N_result_EPRC)\n",
    "plt.show()"
   ],
   "metadata": {
    "collapsed": false,
    "pycharm": {
     "name": "#%%\n"
    }
   }
  },
  {
   "cell_type": "code",
   "execution_count": 33,
   "outputs": [],
   "source": [
    "#重制默认值\n",
    "lr = 1/(M*10)\n",
    "value = (30**2)/(100**2)\n",
    "N=100\n",
    "eta=0.00001\n",
    "cap =3"
   ],
   "metadata": {
    "collapsed": false,
    "pycharm": {
     "name": "#%%\n"
    }
   }
  },
  {
   "cell_type": "code",
   "execution_count": 44,
   "outputs": [],
   "source": [
    "#M结果向量存储\n",
    "M_result_ga=np.zeros(len(M_variable))\n",
    "M_result_PSO=np.zeros(len(M_variable))\n",
    "M_result_GD=np.zeros(len(M_variable))\n",
    "M_result_DE=np.zeros(len(M_variable))\n",
    "M_result_MPC=np.zeros(len(M_variable))\n",
    "M_result_EPRC=np.zeros(len(M_variable))"
   ],
   "metadata": {
    "collapsed": false,
    "pycharm": {
     "name": "#%%\n"
    }
   }
  },
  {
   "cell_type": "code",
   "execution_count": 46,
   "outputs": [
    {
     "name": "stdout",
     "output_type": "stream",
     "text": [
      "其他默认参数： N= 140   D2D半径和BS半径比: 0.09   用户缓存大小： 3\n",
      "M= 50 \n",
      " 命中概率 0.8023734641246975\n",
      "M= 60 \n",
      " 命中概率 0.8182292656994503\n",
      "M= 70 \n",
      " 命中概率 0.8308064376624563\n",
      "M= 80 \n",
      " 命中概率 0.8411001859739037\n",
      "M= 90 \n",
      " 命中概率 0.8497279384293589\n",
      "M= 100 \n",
      " 命中概率 0.8570959745083494\n",
      "M= 110 \n",
      " 命中概率 0.8634832534239371\n",
      "M= 120 \n",
      " 命中概率 0.8690899191526702\n",
      "M= 130 \n",
      " 命中概率 0.8740629209138965\n",
      "M= 140 \n",
      " 命中概率 0.878513311995303\n",
      "[0.76293759 0.78098539 0.79645385 0.8098356  0.82153001 0.83184875\n",
      " 0.84103364 0.84927336 0.85671694 0.86348325]\n"
     ]
    }
   ],
   "source": [
    "print('其他默认参数：','N=',N,'  D2D半径和BS半径比:',value,'  用户缓存大小：', cap)\n",
    "M_i=0\n",
    "for i in M_variable:\n",
    "    M=i\n",
    "    zipf_n = zipf_distribute(alpha,M)\n",
    "    result_gd = d2d_gd()\n",
    "    ans=all_d2d(result_gd,d2d)\n",
    "    M_result_ga[M_i]=ans\n",
    "    M_i +=1\n",
    "    print('M=',M,'\\n','命中概率',ans)\n",
    "\n",
    "print(N_result_ga)"
   ],
   "metadata": {
    "collapsed": false,
    "pycharm": {
     "name": "#%%\n"
    }
   }
  },
  {
   "cell_type": "code",
   "execution_count": 52,
   "outputs": [
    {
     "name": "stdout",
     "output_type": "stream",
     "text": [
      "M= 50 \n",
      " 命中概率 0.5586316112997687\n",
      "M= 60 \n",
      " 命中概率 0.4940377890434474\n",
      "M= 70 \n",
      " 命中概率 0.4422266727277523\n",
      "M= 80 \n",
      " 命中概率 0.39993735016191634\n",
      "M= 90 \n",
      " 命中概率 0.3648547408454449\n",
      "M= 100 \n",
      " 命中概率 0.3353264143541053\n",
      "M= 110 \n",
      " 命中概率 0.31015469002501855\n",
      "M= 120 \n",
      " 命中概率 0.2884558475876694\n",
      "M= 130 \n",
      " 命中概率 0.2695661415706149\n",
      "M= 140 \n",
      " 命中概率 0.2529786376846505\n",
      "M= 50 \n",
      " 命中概率 0.6632532913004995\n",
      "M= 60 \n",
      " 命中概率 0.6564079910847895\n",
      "M= 70 \n",
      " 命中概率 0.6511735743628517\n",
      "M= 80 \n",
      " 命中概率 0.6470081757499925\n",
      "M= 90 \n",
      " 命中概率 0.6435940260160106\n",
      "M= 100 \n",
      " 命中概率 0.6407311020304444\n",
      "M= 110 \n",
      " 命中概率 0.6382865092868991\n",
      "M= 120 \n",
      " 命中概率 0.6361681084555402\n",
      "M= 130 \n",
      " 命中概率 0.6343097731208899\n",
      "M= 140 \n",
      " 命中概率 0.6326626717380046\n"
     ]
    }
   ],
   "source": [
    "#MPC EPRC\n",
    "\n",
    "#MPC EPRC\n",
    "M_i=0\n",
    "for i in M_variable:\n",
    "    M=i\n",
    "    zipf_n = zipf_distribute(alpha,M)\n",
    "    result_EPRC=np.ones(M)*(cap/M)\n",
    "    ans=all_d2d(result_EPRC,d2d)\n",
    "    M_result_EPRC[M_i]=ans\n",
    "    M_i +=1\n",
    "    print('M=',M,'\\n','命中概率',ans)\n",
    "\n",
    "M_i=0\n",
    "for i in M_variable:\n",
    "    M=i\n",
    "    zipf_n = zipf_distribute(alpha,M)\n",
    "    result_MPC=np.zeros(M)\n",
    "    for j in range(cap):\n",
    "        result_MPC[j]=1\n",
    "    ans=all_d2d(result_MPC,d2d)\n",
    "    M_result_MPC[M_i]=ans\n",
    "    M_i +=1\n",
    "    print('M=',M,'\\n','命中概率',ans)\n"
   ],
   "metadata": {
    "collapsed": false,
    "pycharm": {
     "name": "#%%\n"
    }
   }
  },
  {
   "cell_type": "code",
   "execution_count": 32,
   "outputs": [
    {
     "data": {
      "text/plain": "<Figure size 432x288 with 1 Axes>",
      "image/png": "[encoded data removed]"
     },
     "metadata": {
      "needs_background": "light"
     },
     "output_type": "display_data"
    }
   ],
   "source": [
    "#PSO DE matlab"
   ],
   "metadata": {
    "collapsed": false,
    "pycharm": {
     "name": "#%%\n"
    }
   }
  },
  {
   "cell_type": "code",
   "execution_count": 53,
   "outputs": [
    {
     "data": {
      "text/plain": "<Figure size 432x288 with 1 Axes>",
      "image/png": "[encoded data removed]"
     },
     "metadata": {
      "needs_background": "light"
     },
     "output_type": "display_data"
    }
   ],
   "source": [
    "plt.plot(M_variable,M_result_ga)\n",
    "plt.plot(M_variable,M_result_MPC)\n",
    "plt.plot(M_variable,M_result_EPRC)\n",
    "plt.show()"
   ],
   "metadata": {
    "collapsed": false,
    "pycharm": {
     "name": "#%%\n"
    }
   }
  },
  {
   "cell_type": "code",
   "execution_count": 59,
   "outputs": [],
   "source": [
    "#重制默认值\n",
    "lr = 1/(M*10)\n",
    "value = (30**2)/(100**2)\n",
    "N=100\n",
    "eta=0.00001\n",
    "cap =3"
   ],
   "metadata": {
    "collapsed": false,
    "pycharm": {
     "name": "#%%\n"
    }
   }
  },
  {
   "cell_type": "code",
   "execution_count": 60,
   "outputs": [],
   "source": [
    "#C结果向量存储\n",
    "C_result_ga=np.zeros(len(C_variable))\n",
    "C_result_PSO=np.zeros(len(C_variable))\n",
    "C_result_GD=np.zeros(len(C_variable))\n",
    "C_result_DE=np.zeros(len(C_variable))\n",
    "C_result_MPC=np.zeros(len(C_variable))\n",
    "C_result_EPRC=np.zeros(len(C_variable))"
   ],
   "metadata": {
    "collapsed": false,
    "pycharm": {
     "name": "#%%\n"
    }
   }
  },
  {
   "cell_type": "code",
   "execution_count": 61,
   "outputs": [
    {
     "name": "stdout",
     "output_type": "stream",
     "text": [
      "其他默认参数： M= 140   D2D半径和BS半径比: 0.09   用户数量： 100\n",
      "C= 3 \n",
      " 命中概率 0.8137619322602054\n",
      "C= 4 \n",
      " 命中概率 0.8450825638092658\n",
      "C= 5 \n",
      " 命中概率 0.8670643247827307\n",
      "[0.81376193 0.84508256 0.86706432]\n"
     ]
    }
   ],
   "source": [
    "#结果\n",
    "print('其他默认参数：','M=',M,'  D2D半径和BS半径比:',value,'  用户数量：', N)\n",
    "C_i=0\n",
    "for i in C_variable:\n",
    "    cap=i\n",
    "    zipf_n = zipf_distribute(alpha,M)\n",
    "    result_gd = d2d_gd()\n",
    "    ans=all_d2d(result_gd,d2d)\n",
    "    C_result_ga[C_i]=ans\n",
    "    C_i +=1\n",
    "    print('C=',cap,'\\n','命中概率',ans)\n",
    "\n",
    "print(C_result_ga)\n",
    "C_i=0"
   ],
   "metadata": {
    "collapsed": false,
    "pycharm": {
     "name": "#%%\n"
    }
   }
  },
  {
   "cell_type": "code",
   "execution_count": 64,
   "outputs": [
    {
     "name": "stdout",
     "output_type": "stream",
     "text": [
      "C= 3 \n",
      " 命中概率 0.19307022928735598\n",
      "C= 4 \n",
      " 命中概率 0.24883533781632908\n",
      "C= 5 \n",
      " 命中概率 0.30078445028937234\n",
      "C= 3 \n",
      " 命中概率 0.6326626717380046\n",
      "C= 4 \n",
      " 命中概率 0.6838157480239134\n",
      "C= 5 \n",
      " 命中概率 0.7204179098906413\n"
     ]
    }
   ],
   "source": [
    "#MPC EPRC\n",
    "\n",
    "#MPC EPRC\n",
    "C_i=0\n",
    "for i in C_variable:\n",
    "    cap=i\n",
    "    zipf_n = zipf_distribute(alpha,M)\n",
    "    result_EPRC=np.ones(M)*(cap/M)\n",
    "    ans=all_d2d(result_EPRC,d2d)\n",
    "    C_result_EPRC[C_i]=ans\n",
    "    C_i +=1\n",
    "    print('C=',cap,'\\n','命中概率',ans)\n",
    "\n",
    "C_i=0\n",
    "for i in C_variable:\n",
    "    cap=i\n",
    "    zipf_n = zipf_distribute(alpha,M)\n",
    "    result_MPC=np.zeros(M)\n",
    "    for j in range(cap):\n",
    "        result_MPC[j]=1\n",
    "    ans=all_d2d(result_MPC,d2d)\n",
    "    C_result_MPC[C_i]=ans\n",
    "    C_i +=1\n",
    "    print('C=',cap,'\\n','命中概率',ans)"
   ],
   "metadata": {
    "collapsed": false,
    "pycharm": {
     "name": "#%%\n"
    }
   }
  },
  {
   "cell_type": "code",
   "execution_count": null,
   "outputs": [],
   "source": [
    "#PSO DE matlab"
   ],
   "metadata": {
    "collapsed": false,
    "pycharm": {
     "name": "#%%\n"
    }
   }
  },
  {
   "cell_type": "code",
   "execution_count": 65,
   "outputs": [
    {
     "data": {
      "text/plain": "<Figure size 432x288 with 1 Axes>",
      "image/png": "[encoded data removed]"
     },
     "metadata": {
      "needs_background": "light"
     },
     "output_type": "display_data"
    }
   ],
   "source": [
    "plt.plot(C_variable,C_result_ga)\n",
    "plt.plot(C_variable,C_result_MPC)\n",
    "plt.plot(C_variable,C_result_EPRC)\n",
    "plt.show()"
   ],
   "metadata": {
    "collapsed": false,
    "pycharm": {
     "name": "#%%\n"
    }
   }
  },
  {
   "cell_type": "code",
   "execution_count": null,
   "outputs": [],
   "source": [],
   "metadata": {
    "collapsed": false,
    "pycharm": {
     "name": "#%%\n"
    }
   }
  }
 ],
 "metadata": {
  "kernelspec": {
   "display_name": "Python 3",
   "language": "python",
   "name": "python3"
  },
  "language_info": {
   "codemirror_mode": {
    "name": "ipython",
    "version": 2
   },
   "file_extension": ".py",
   "mimetype": "text/x-python",
   "name": "python",
   "nbconvert_exporter": "python",
   "pygments_lexer": "ipython2",
   "version": "2.7.6"
  }
 },
 "nbformat": 4,
 "nbformat_minor": 0
}