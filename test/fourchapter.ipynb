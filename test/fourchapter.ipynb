{
 "cells": [
  {
   "cell_type": "code",
   "execution_count": 384,
   "metadata": {
    "collapsed": true
   },
   "outputs": [],
   "source": [
    "import numpy as np\n",
    "import matplotlib.pyplot as plt\n",
    "import random\n",
    "import math"
   ]
  },
  {
   "cell_type": "code",
   "execution_count": 385,
   "outputs": [],
   "source": [
    "#设置默认值\n",
    "N=100\n",
    "M=200\n",
    "R_D2D=30\n",
    "R_BS=100\n",
    "S=12"
   ],
   "metadata": {
    "collapsed": false,
    "pycharm": {
     "name": "#%%\n"
    }
   }
  },
  {
   "cell_type": "code",
   "execution_count": 386,
   "outputs": [],
   "source": [
    "#设置带宽默认值\n",
    "#默认单位为MHZ\n",
    "B_D2D = 20\n",
    "B_BS = 20\n",
    "\n",
    "#设置默认用户功率和基站功率\n",
    "E_D2D = 20\n",
    "E_BS =20"
   ],
   "metadata": {
    "collapsed": false,
    "pycharm": {
     "name": "#%%\n"
    }
   }
  },
  {
   "cell_type": "markdown",
   "source": [
    "之后都是func，这里都是默认值"
   ],
   "metadata": {
    "collapsed": false
   }
  },
  {
   "cell_type": "code",
   "execution_count": 387,
   "outputs": [],
   "source": [
    "#随机化的local message function\n",
    "def random_point(car_num, radius):\n",
    "    x_index = []\n",
    "    y_index = []\n",
    "    for i in range(1, car_num + 1):\n",
    "        theta = random.random() * 2 * np.pi\n",
    "        r = random.uniform(0, radius)\n",
    "        x = math.cos(theta) * (r ** 0.5)\n",
    "        y = math.sin(theta) * (r ** 0.5)\n",
    "        x_index.append(x)\n",
    "        y_index.append(y)\n",
    "\n",
    "    return x_index, y_index"
   ],
   "metadata": {
    "collapsed": false,
    "pycharm": {
     "name": "#%%\n"
    }
   }
  },
  {
   "cell_type": "markdown",
   "source": [
    "出分布图的逻辑"
   ],
   "metadata": {
    "collapsed": false
   }
  },
  {
   "cell_type": "code",
   "execution_count": 388,
   "outputs": [],
   "source": [
    "x,y = random_point(N,R_BS**2)\n",
    "# plt.title(\"user terminal distribute version I\")\n",
    "# plt.scatter(x, y, marker='o', label=\"terminal\")\n",
    "# plt.scatter(0, 0, marker='^', label=\"base station\")\n",
    "# plt.legend(loc='best')\n",
    "# #plt.plot(0,0,\"^\",color=\"red\")\n",
    "# plt.show()"
   ],
   "metadata": {
    "collapsed": false,
    "pycharm": {
     "name": "#%%\n"
    }
   }
  },
  {
   "cell_type": "markdown",
   "source": [],
   "metadata": {
    "collapsed": false
   }
  },
  {
   "cell_type": "markdown",
   "source": [
    "初始化 用户的五个表\n",
    "可通行表 长度 N\n",
    "存储表 长度 M\n",
    "命中表 长度 M\n",
    "请求表 长度 M\n",
    "权重表 长度 3"
   ],
   "metadata": {
    "collapsed": false
   }
  },
  {
   "cell_type": "code",
   "execution_count": 389,
   "outputs": [],
   "source": [
    "#得到用户的 第一个表 可通信表 1\n",
    "# 用户i的表为communication[i,:]\n",
    "communication = np.zeros((N,N))\n",
    "for i in range(len(communication)):\n",
    "    for j in range(len(communication)):\n",
    "        if (x[i]-x[j])**2+(y[i]-y[j])**2<=R_D2D**2:\n",
    "            communication[i][j]=1"
   ],
   "metadata": {
    "collapsed": false,
    "pycharm": {
     "name": "#%%\n"
    }
   }
  },
  {
   "cell_type": "code",
   "execution_count": 390,
   "outputs": [
    {
     "data": {
      "text/plain": "12.0"
     },
     "execution_count": 390,
     "metadata": {},
     "output_type": "execute_result"
    }
   ],
   "source": [
    "communication[0].sum()-1"
   ],
   "metadata": {
    "collapsed": false,
    "pycharm": {
     "name": "#%%\n"
    }
   }
  },
  {
   "cell_type": "code",
   "execution_count": 391,
   "outputs": [],
   "source": [
    "#初始化用户的存储表 2\n",
    "cache = np.zeros((N,M))\n",
    "#这个表会在后续循环中更新"
   ],
   "metadata": {
    "collapsed": false,
    "pycharm": {
     "name": "#%%\n"
    }
   }
  },
  {
   "cell_type": "code",
   "execution_count": 392,
   "outputs": [],
   "source": [
    "#初始化用户的命中表 3\n",
    "#这个表是由用户自身的存储表和用户可通行表中其他用户的存储表相加得到的\n",
    "hit_nums = np.zeros((N,M))"
   ],
   "metadata": {
    "collapsed": false,
    "pycharm": {
     "name": "#%%\n"
    }
   }
  },
  {
   "cell_type": "code",
   "execution_count": 393,
   "outputs": [],
   "source": [
    "#初始化用户的请求表 4\n",
    "#是由图神经网络预测得到的，先用随机值代替\n",
    "rate = 5*np.random.random((N,M))\n",
    "request = np.zeros((N,M))\n",
    "for i in range(len(rate)):\n",
    "    for j in range(len(rate[0])):\n",
    "        request[i][j]=rate[i][j]/rate[i].sum()\n"
   ],
   "metadata": {
    "collapsed": false,
    "pycharm": {
     "name": "#%%\n"
    }
   }
  },
  {
   "cell_type": "code",
   "execution_count": 394,
   "outputs": [
    {
     "data": {
      "text/plain": "array([[1., 1., 0.],\n       [1., 1., 0.],\n       [1., 1., 0.],\n       [1., 1., 0.],\n       [1., 1., 0.],\n       [1., 1., 0.],\n       [1., 1., 0.],\n       [1., 1., 0.],\n       [1., 1., 0.],\n       [1., 1., 0.],\n       [1., 1., 0.],\n       [1., 1., 0.],\n       [1., 1., 0.],\n       [1., 1., 0.],\n       [1., 1., 0.],\n       [1., 1., 0.],\n       [1., 1., 0.],\n       [1., 1., 0.],\n       [1., 1., 0.],\n       [1., 1., 0.],\n       [1., 1., 0.],\n       [1., 1., 0.],\n       [1., 1., 0.],\n       [1., 1., 0.],\n       [1., 1., 0.],\n       [1., 1., 0.],\n       [1., 1., 0.],\n       [1., 1., 0.],\n       [1., 1., 0.],\n       [1., 1., 0.],\n       [1., 1., 0.],\n       [1., 1., 0.],\n       [1., 1., 0.],\n       [1., 1., 0.],\n       [1., 1., 0.],\n       [1., 1., 0.],\n       [1., 1., 0.],\n       [1., 1., 0.],\n       [1., 1., 0.],\n       [1., 1., 0.],\n       [1., 1., 0.],\n       [1., 1., 0.],\n       [1., 1., 0.],\n       [1., 1., 0.],\n       [1., 1., 0.],\n       [1., 1., 0.],\n       [1., 1., 0.],\n       [1., 1., 0.],\n       [1., 1., 0.],\n       [1., 1., 0.],\n       [1., 1., 0.],\n       [1., 1., 0.],\n       [1., 1., 0.],\n       [1., 1., 0.],\n       [1., 1., 0.],\n       [1., 1., 0.],\n       [1., 1., 0.],\n       [1., 1., 0.],\n       [1., 1., 0.],\n       [1., 1., 0.],\n       [1., 1., 0.],\n       [1., 1., 0.],\n       [1., 1., 0.],\n       [1., 1., 0.],\n       [1., 1., 0.],\n       [1., 1., 0.],\n       [1., 1., 0.],\n       [1., 1., 0.],\n       [1., 1., 0.],\n       [1., 1., 0.],\n       [1., 1., 0.],\n       [1., 1., 0.],\n       [1., 1., 0.],\n       [1., 1., 0.],\n       [1., 1., 0.],\n       [1., 1., 0.],\n       [1., 1., 0.],\n       [1., 1., 0.],\n       [1., 1., 0.],\n       [1., 1., 0.],\n       [1., 1., 0.],\n       [1., 1., 0.],\n       [1., 1., 0.],\n       [1., 1., 0.],\n       [1., 1., 0.],\n       [1., 1., 0.],\n       [1., 1., 0.],\n       [1., 1., 0.],\n       [1., 1., 0.],\n       [1., 1., 0.],\n       [1., 1., 0.],\n       [1., 1., 0.],\n       [1., 1., 0.],\n       [1., 1., 0.],\n       [1., 1., 0.],\n       [1., 1., 0.],\n       [1., 1., 0.],\n       [1., 1., 0.],\n       [1., 1., 0.],\n       [1., 1., 0.]])"
     },
     "execution_count": 394,
     "metadata": {},
     "output_type": "execute_result"
    }
   ],
   "source": [
    "#初始化权重表5\n",
    "weight = np.zeros((N,3))\n",
    "weight[:,0]=+1\n",
    "weight[:,1]=+1\n",
    "\n",
    "SELF = 0\n",
    "D2D = 1\n",
    "BASE = 2\n",
    "\n",
    "# 1 是 self 的权重，2 是 d2d 的权重  3是 BS的权重\n",
    "#如果是 命中概率最高， 那么 self =1  d2d =1  BS =0 即可\n",
    "weight"
   ],
   "metadata": {
    "collapsed": false,
    "pycharm": {
     "name": "#%%\n"
    }
   }
  },
  {
   "cell_type": "markdown",
   "source": [
    "开始循环"
   ],
   "metadata": {
    "collapsed": false
   }
  },
  {
   "cell_type": "code",
   "execution_count": 395,
   "outputs": [
    {
     "name": "stdout",
     "output_type": "stream",
     "text": [
      "这是第的 0 轮迭代\n",
      "11064.0\n",
      "0.6159470343418584\n",
      "0.5461650466505911 0.06978198769126726\n",
      "这是第的 100 轮迭代\n",
      "11064.0\n",
      "0.618628605902261\n",
      "0.5492803765158724 0.06934822938638857\n",
      "这是第的 200 轮迭代\n",
      "11064.0\n",
      "0.619010074901419\n",
      "0.5497090518819507 0.06930102301946825\n",
      "这是第的 300 轮迭代\n",
      "11064.0\n",
      "0.6190967661129698\n",
      "0.5498096274627156 0.0692871386502543\n",
      "这是第的 400 轮迭代\n",
      "11064.0\n",
      "0.6191403929671414\n",
      "0.5498568470456694 0.06928354592147197\n",
      "这是第的 500 轮迭代\n",
      "11064.0\n",
      "0.6191403929671414\n",
      "0.5498568470456694 0.06928354592147197\n",
      "这是第的 600 轮迭代\n",
      "11064.0\n",
      "0.6191403929671414\n",
      "0.5498568470456694 0.06928354592147197\n",
      "这是第的 700 轮迭代\n",
      "11064.0\n",
      "0.6191403929671414\n",
      "0.5498568470456694 0.06928354592147197\n",
      "这是第的 800 轮迭代\n",
      "11064.0\n",
      "0.6191403929671414\n",
      "0.5498568470456694 0.06928354592147197\n",
      "这是第的 900 轮迭代\n",
      "11064.0\n",
      "0.6191403929671414\n",
      "0.5498568470456694 0.06928354592147197\n"
     ]
    }
   ],
   "source": [
    "#循环前一些的值说明\n",
    "\n",
    "#表示总的效能\n",
    "U=0\n",
    "#K表示循环论数 一定是 N的 K次方\n",
    "K=10\n",
    "#把每一轮循环的结果 存起来\n",
    "ans_U = np.zeros(K)\n",
    "U_self=0\n",
    "U_D2D = 0\n",
    "\n",
    "for i in range(K):\n",
    "    random_user_set = np.arange(0,N,1)\n",
    "    np.random.shuffle(random_user_set)\n",
    "    print('这是第的',i*N,'轮迭代')\n",
    "    #挑选一个用户 index 来是的他的缓存空间存储的对象可以使得 U全局 最大化\n",
    "    for index in random_user_set:\n",
    "        cache_U = np.zeros((M,2)) #用户 index 存入文件m 需要一个 表记录\n",
    "        cache_U_0 = np.zeros((M,2))\n",
    "        #cache_tmp矩阵表示临时表， index行全1\n",
    "        cache_tmp =cache.copy()\n",
    "        cache_tmp[index,:]=np.ones(M)\n",
    "        cache_tmp_0 = cache.copy()\n",
    "        cache_tmp_0[index,:]=np.zeros(M)\n",
    "        #\n",
    "        hit_nums = np.zeros((N,M))\n",
    "        hit_nums_0 = np.zeros((N,M))\n",
    "        for n in range(N):\n",
    "            if communication[index,n]==0: #过滤所有的不能于index 通信的n\n",
    "                continue\n",
    "            for n_nearby in range(N):\n",
    "                if communication[n,n_nearby]==0:\n",
    "                    continue\n",
    "                hit_nums[n,:]+=cache_tmp[n_nearby,:] #得到n所有的hit数量\n",
    "        for m in range(M):\n",
    "            cache_U[m,1]=m\n",
    "            for n in range(N):\n",
    "                if communication[index,n]==0: #过滤所有的不能于index 通信的n\n",
    "                    continue\n",
    "                if hit_nums[n,m]>=1:\n",
    "                    if cache_tmp[n,m]==1:\n",
    "                        cache_U[m,0]+=request[n,m]*weight[n,SELF]\n",
    "                    else:\n",
    "                        cache_U[m,0]+=request[n,m]*weight[n,D2D]\n",
    "\n",
    "        for n in range(N):\n",
    "            if communication[index,n]==0: #过滤所有的不能于index 通信的n\n",
    "                continue\n",
    "            for n_nearby in range(N):\n",
    "                if communication[n,n_nearby]==0:\n",
    "                    continue\n",
    "                hit_nums_0[n,:]+=cache_tmp_0[n_nearby,:] #得到n所有的hit数量\n",
    "        for m in range(M):\n",
    "            cache_U_0[m,1]=m\n",
    "            for n in range(N):\n",
    "                if communication[index,n]==0: #过滤所有的不能于index 通信的n\n",
    "                    continue\n",
    "                if hit_nums_0[n,m]>=1:\n",
    "                    if cache_tmp_0[n,m]==1:\n",
    "                        cache_U_0[m,0]+=request[n,m]*weight[n,SELF]\n",
    "                    else:\n",
    "                        cache_U_0[m,0]+=request[n,m]*weight[n,D2D]\n",
    "\n",
    "        cache_U[:,0] -= cache_U_0[:,0]\n",
    "\n",
    "        sort_cache_U=cache_U[np.lexsort(-cache_U[:,::-1].T)]\n",
    "        cache[index,:]=np.zeros(M)\n",
    "        for ca in range(S):\n",
    "\n",
    "            add=sort_cache_U[ca,1]\n",
    "            cache[index,int(add)]=1\n",
    "            #print('用户：',index,'  存储下标:',add)\n",
    "\n",
    "\n",
    "    hit_nums=np.zeros((N,M))\n",
    "    U_self=0\n",
    "    U_D2D = 0\n",
    "    #print(cache.sum()==N*S)\n",
    "    for n in range(N):\n",
    "        for n_nearby in range(N):\n",
    "            if communication[n,n_nearby]==0:\n",
    "                continue\n",
    "            hit_nums[n,:]+=cache[n_nearby,:]\n",
    "            #print(cache[n_nearby].sum())\n",
    "        #print(hit_nums[n].sum())\n",
    "    #print(hit_nums.sum())\n",
    "    for n in range(N):\n",
    "        for m in range(M):\n",
    "            if hit_nums[n,m]>=1:\n",
    "                if cache[n,m]==1:\n",
    "                    U_self+=request[n,m]*weight[n,SELF]\n",
    "                else:\n",
    "                    U_D2D+=request[n,m]*weight[n,D2D]\n",
    "    print(hit_nums.sum())\n",
    "    print((U_D2D+U_self)/N)\n",
    "    print(U_D2D/N,U_self/N)\n",
    "    ans_U[i]=U/N\n",
    "\n",
    "\n"
   ],
   "metadata": {
    "collapsed": false,
    "pycharm": {
     "name": "#%%\n"
    }
   }
  },
  {
   "cell_type": "code",
   "execution_count": 396,
   "outputs": [
    {
     "data": {
      "text/plain": "11064.0"
     },
     "execution_count": 396,
     "metadata": {},
     "output_type": "execute_result"
    }
   ],
   "source": [
    "hit_nums.sum()"
   ],
   "metadata": {
    "collapsed": false,
    "pycharm": {
     "name": "#%%\n"
    }
   }
  },
  {
   "cell_type": "markdown",
   "source": [],
   "metadata": {
    "collapsed": false
   }
  },
  {
   "cell_type": "markdown",
   "source": [
    "global和self\n",
    "self是只存自己 请求高的"
   ],
   "metadata": {
    "collapsed": false
   }
  },
  {
   "cell_type": "code",
   "execution_count": 397,
   "outputs": [],
   "source": [
    "#self的话，每次用户只会存自己请求概率最高的S个文件\n",
    "self_cache =  np.zeros((N,M))\n",
    "for i in range(N):\n",
    "    request_i=np.zeros((M,2))\n",
    "    request_i[:,0]=request[i,:].copy().T\n",
    "    request_i[:,1]=np.arange(0,M,1)\n",
    "    sort_request_i=request_i[np.lexsort(-request_i[:,::-1].T)]\n",
    "    for j in range(S):\n",
    "        self_cache[i,int(sort_request_i[j,1])]=1\n",
    "\n",
    "\n"
   ],
   "metadata": {
    "collapsed": false,
    "pycharm": {
     "name": "#%%\n"
    }
   }
  },
  {
   "cell_type": "code",
   "execution_count": 398,
   "outputs": [
    {
     "name": "stdout",
     "output_type": "stream",
     "text": [
      "0.4509277919705487\n"
     ]
    }
   ],
   "source": [
    "hit_nums=np.zeros((N,M))\n",
    "U_self_self=0\n",
    "U_self_D2D=0\n",
    "#print(cache.sum()==N*S)\n",
    "for n in range(N):\n",
    "    for n_nearby in range(N):\n",
    "        if communication[n,n_nearby]==0:\n",
    "            continue\n",
    "        hit_nums[n,:]+=self_cache[n_nearby,:]\n",
    "        #print(cache[n_nearby].sum())\n",
    "    #print(hit_nums[n].sum())\n",
    "#print(hit_nums.sum())\n",
    "for n in range(N):\n",
    "    for m in range(M):\n",
    "        if hit_nums[n,m]>=1:\n",
    "            if self_cache[n,m]==1:\n",
    "                U_self_self+=request[n,m]*weight[n,SELF]\n",
    "            else:\n",
    "                U_self_D2D+=request[n,m]*weight[n,D2D]\n",
    "print((U_self_self+U_self_D2D)/N)\n"
   ],
   "metadata": {
    "collapsed": false,
    "pycharm": {
     "name": "#%%\n"
    }
   }
  },
  {
   "cell_type": "markdown",
   "source": [
    "global分为两种    BS Global 和  World Global"
   ],
   "metadata": {
    "collapsed": false
   }
  },
  {
   "cell_type": "code",
   "execution_count": 399,
   "outputs": [],
   "source": [
    "#global仍然是先处理request\n",
    "#这里的global不只是基站内的所有的用户的喜欢，而是全局 这个数据集的总偏好\n",
    "\n",
    "BS_rate = np.zeros(M)\n",
    "for i in range(M):\n",
    "    BS_rate[i]= rate[:,i].sum()/N\n",
    "\n",
    "BS_request = np.zeros(M)\n",
    "for i in range(M):\n",
    "    BS_request[i]=BS_rate[i]/BS_rate.sum()\n",
    "\n",
    "world_rate = 5*np.random.random(M)\n",
    "world_request = np.zeros(M)\n",
    "for i in range(M):\n",
    "    world_request[i]=world_rate[i]/world_rate.sum()\n",
    "\n",
    "# global分为两种\n",
    "\n"
   ],
   "metadata": {
    "collapsed": false,
    "pycharm": {
     "name": "#%%\n"
    }
   }
  },
  {
   "cell_type": "markdown",
   "source": [
    "称述下 做全局的应该怎么存？\n",
    "只存 全局高的文件"
   ],
   "metadata": {
    "collapsed": false
   }
  },
  {
   "cell_type": "code",
   "execution_count": 400,
   "outputs": [],
   "source": [
    "BS_cache = np.zeros((N,M))"
   ],
   "metadata": {
    "collapsed": false,
    "pycharm": {
     "name": "#%%\n"
    }
   }
  },
  {
   "cell_type": "code",
   "execution_count": 401,
   "outputs": [
    {
     "name": "stdout",
     "output_type": "stream",
     "text": [
      "0.414191651189755\n"
     ]
    }
   ],
   "source": [
    "for i in range(S):\n",
    "    tmp=np.arange(0,M,1)\n",
    "\n",
    "    np.random.shuffle(tmp)\n",
    "    for j in range(N):\n",
    "\n",
    "        BS_cache[j,tmp[j]]=1\n",
    "\n",
    "hit_nums=np.zeros((N,M))\n",
    "U_BS_global_D2D=0\n",
    "U_BS_global_self=0\n",
    "#print(cache.sum()==N*S)\n",
    "for n in range(N):\n",
    "    for n_nearby in range(N):\n",
    "        if communication[n,n_nearby]==0:\n",
    "            continue\n",
    "        hit_nums[n,:]+=BS_cache[n_nearby,:]\n",
    "        #print(cache[n_nearby].sum())\n",
    "    #print(hit_nums[n].sum())\n",
    "#print(hit_nums.sum())\n",
    "for n in range(N):\n",
    "    for m in range(M):\n",
    "        if hit_nums[n,m]>=1:\n",
    "            if BS_cache[n,m]==1:\n",
    "                U_BS_global_self+=request[n,m]*weight[n,SELF]\n",
    "            else:\n",
    "                U_BS_global_D2D+=request[n,m]*weight[n,D2D]\n",
    "\n",
    "print((U_BS_global_self+U_BS_global_D2D)/N)"
   ],
   "metadata": {
    "collapsed": false,
    "pycharm": {
     "name": "#%%\n"
    }
   }
  },
  {
   "cell_type": "markdown",
   "source": [
    "world global的偏好"
   ],
   "metadata": {
    "collapsed": false
   }
  },
  {
   "cell_type": "code",
   "execution_count": 402,
   "outputs": [],
   "source": [
    "\n",
    "lr = 1/(N*S)\n",
    "value = (R_D2D**2)/(R_BS**2)\n",
    "Alternative = np.zeros(S*N)\n",
    "\n",
    "\n",
    "def d2d_gd(capacity):\n",
    "    k = capacity*N\n",
    "    results = np.zeros(M)\n",
    "    for i in range(k):\n",
    "        max=0\n",
    "        index=0\n",
    "        for j in range(len(results)):\n",
    "            if d2d(world_request[j],results[j]+lr)-d2d(world_request[j],results[j])>max:\n",
    "                max =d2d(world_request[j],results[j]+lr)-d2d(world_request[j],results[j])\n",
    "                index=j\n",
    "\n",
    "        Alternative[i]=index\n",
    "        results[index]+=lr\n",
    "    return results\n",
    "\n",
    "def d2d(a,x):\n",
    "    return a-a*np.exp(-1.0*value* N * x)+a*x*np.exp(-1.0*value* N * x)\n",
    "\n",
    "result_gd = d2d_gd(S)"
   ],
   "metadata": {
    "collapsed": false,
    "pycharm": {
     "name": "#%%\n"
    }
   }
  },
  {
   "cell_type": "code",
   "execution_count": 403,
   "outputs": [
    {
     "data": {
      "text/plain": "array([ 49.,   1.,  49., ..., 121.,  93.,  49.])"
     },
     "execution_count": 403,
     "metadata": {},
     "output_type": "execute_result"
    }
   ],
   "source": [
    "Alternative"
   ],
   "metadata": {
    "collapsed": false,
    "pycharm": {
     "name": "#%%\n"
    }
   }
  },
  {
   "cell_type": "code",
   "execution_count": 404,
   "outputs": [
    {
     "name": "stdout",
     "output_type": "stream",
     "text": [
      "0.20785003811036337\n"
     ]
    }
   ],
   "source": [
    "world_cache=np.zeros((N,M))\n",
    "for i in range(N):\n",
    "    for j in range(S):\n",
    "        tmp=np.random.randint(0,len(Alternative)-1)\n",
    "        world_cache[i,int(Alternative[tmp])]=1\n",
    "\n",
    "hit_nums=np.zeros((N,M))\n",
    "U_world_global_D2D=0\n",
    "U_world_global_self=0\n",
    "#print(cache.sum()==N*S)\n",
    "for n in range(N):\n",
    "    for n_nearby in range(N):\n",
    "        if communication[n,n_nearby]==0:\n",
    "            continue\n",
    "        hit_nums[n,:]+=world_cache[n_nearby,:]\n",
    "        #print(cache[n_nearby].sum())\n",
    "    #print(hit_nums[n].sum())\n",
    "#print(hit_nums.sum())\n",
    "for n in range(N):\n",
    "    for m in range(M):\n",
    "        if hit_nums[n,m]>=1:\n",
    "            if world_cache[n,m]==1:\n",
    "                U_world_global_self+=request[n,m]*weight[n,SELF]\n",
    "            else:\n",
    "                U_world_global_D2D+=request[n,m]*weight[n,D2D]\n",
    "\n",
    "print((U_world_global_self+U_world_global_D2D)/N)"
   ],
   "metadata": {
    "collapsed": false,
    "pycharm": {
     "name": "#%%\n"
    }
   }
  },
  {
   "cell_type": "code",
   "execution_count": 405,
   "outputs": [
    {
     "name": "stdout",
     "output_type": "stream",
     "text": [
      "个性化： 0.6191403929671414\n",
      "self： 0.4509277919705487\n",
      "BS global： 0.414191651189755\n",
      "World global： 0.20785003811036337\n"
     ]
    }
   ],
   "source": [
    "print('个性化：',(U_self+U_D2D)/N)\n",
    "print('self：',(U_self_D2D+U_self_self)/N)\n",
    "print('BS global：',(U_BS_global_self+U_BS_global_D2D)/N)\n",
    "print('World global：',(U_world_global_self+U_world_global_D2D)/N)"
   ],
   "metadata": {
    "collapsed": false,
    "pycharm": {
     "name": "#%%\n"
    }
   }
  }
 ],
 "metadata": {
  "kernelspec": {
   "display_name": "Python 3",
   "language": "python",
   "name": "python3"
  },
  "language_info": {
   "codemirror_mode": {
    "name": "ipython",
    "version": 2
   },
   "file_extension": ".py",
   "mimetype": "text/x-python",
   "name": "python",
   "nbconvert_exporter": "python",
   "pygments_lexer": "ipython2",
   "version": "2.7.6"
  }
 },
 "nbformat": 4,
 "nbformat_minor": 0
}